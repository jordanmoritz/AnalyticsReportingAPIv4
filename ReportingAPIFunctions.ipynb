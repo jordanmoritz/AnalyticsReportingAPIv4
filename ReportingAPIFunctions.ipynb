{
 "cells": [
  {
   "cell_type": "code",
   "execution_count": 1,
   "metadata": {
    "collapsed": true
   },
   "outputs": [],
   "source": [
    "from oauth2client.service_account import ServiceAccountCredentials\n",
    "from googleapiclient.discovery import build\n",
    "import pprint\n",
    "import pandas as pd\n",
    "\n",
    "pp = pprint.PrettyPrinter()"
   ]
  },
  {
   "cell_type": "code",
   "execution_count": 58,
   "metadata": {},
   "outputs": [],
   "source": [
    "# To do:\n",
    "# Build a get segments and segment IDs within a view function\n",
    "# https://developers.google.com/analytics/devguides/config/mgmt/v3/mgmtReference/management/segments/list\n",
    "\n",
    "\n",
    "# General functions\n",
    "def get_service_client(scopes, api_name, api_version, service_key_file=None, credentials=None):\n",
    "    \n",
    "    if credentials:\n",
    "        service_client = build(api_name, api_version, credentials=credentials)\n",
    "    \n",
    "    else:\n",
    "        credentials = ServiceAccountCredentials.from_json_keyfile_name(service_key_file, scopes=scopes)\n",
    "        service_client = build(api_name, api_version, credentials=credentials)\n",
    "    \n",
    "    return service_client\n",
    "\n",
    "# Management API functions\n",
    "def print_accounts(account_summary):\n",
    "    for account in account_summary.get('items'):\n",
    "        print(f\"\\nAccount: {account.get('name')}\")\n",
    "        for prop in account.get('webProperties'):\n",
    "            print(f\"\\tProperty: {prop.get('name')}\")\n",
    "            for view in prop.get('profiles'):\n",
    "                print(f\"\\t\\tView: {view.get('name')} - {view.get('id')}\")\n",
    "\n",
    "def get_account_summary(management_client, print_accounts=None):\n",
    "    \"\"\"\n",
    "    Requires that you pass a service client built on management API\n",
    "    If you specify print_accounts=True, will log out account structure from account_summary object\n",
    "    \"\"\"\n",
    "    account_summary = management_client.management().accountSummaries().list().execute()\n",
    "    \n",
    "    if print_accounts:\n",
    "        print_accounts(account_summary)\n",
    "    \n",
    "    return account_summary\n",
    "\n",
    "def get_view_ids(account_summary, account_name=None, prop_name=None):\n",
    "# At some point make this searchable if user already knows account/prop name/id \n",
    "    view_ids = []    \n",
    "    for account in account_summary.get('items'):\n",
    "        for prop in account.get('webProperties'):\n",
    "            for view in prop.get('profiles'):\n",
    "                view_ids.append({\"view_name\": f\"{account.get('name')} > {prop.get('name')} > {view.get('name')}\",\n",
    "                                 \"view_id\": view.get('id')})\n",
    "\n",
    "    return view_ids\n",
    "\n",
    "def get_segments(management_client, print_segments=None):\n",
    "    segments = management_client.management().segments().list().execute()\n",
    "    \n",
    "    if print_segments:\n",
    "        print_segment_names(segments)\n",
    "    \n",
    "    return segments\n",
    "\n",
    "def print_segment_names(segments):\n",
    "    for segment in segments.get('items'):\n",
    "        print(f\"{segment.get('name')} = {segment.get('segmentId')}\")\n",
    "\n",
    "# Reporting API functions\n",
    "def build_request_parameters(view_id, start_date, end_date, sampling_level=None, segments=None, cohorts=None):\n",
    "    # Will need to update this once we get around to adding segments, etc.\n",
    "    request_parameters = {'dateRanges': [{'startDate': start_date,\n",
    "                                          'endDate': end_date}],\n",
    "                          'viewId': view_id}\n",
    "    \n",
    "    if sampling_level:\n",
    "        request_parameters.update({\"samplingLevel\": sampling_level})\n",
    "\n",
    "    return request_parameters\n",
    "\n",
    "def build_request_body(data_requests):\n",
    "    \n",
    "    request_body = {'reportRequests': []}\n",
    "    for request in data_requests:\n",
    "        \n",
    "        formatted_request = {'metrics': [],\n",
    "                            'dimensions': []}\n",
    "        \n",
    "        for metric in request.get('metrics'):\n",
    "            formatted_request['metrics'].append({'expression': 'ga:'+ metric})\n",
    "        \n",
    "        for dimension in request.get('dimensions'):\n",
    "            formatted_request['dimensions'].append({'name': 'ga:'+ dimension})\n",
    "            \n",
    "        request_body['reportRequests'].append(formatted_request)\n",
    "    \n",
    "    return request_body\n",
    "\n",
    "def get_analytics_data(reporting_client, request_parameters, request_body):\n",
    "\n",
    "    for request in request_body['reportRequests']:\n",
    "        request.update(request_parameters)\n",
    "\n",
    "    response_data = reporting_client.reports().batchGet(\n",
    "        body=request_body\n",
    "        ).execute()\n",
    "\n",
    "    return response_data\n",
    "\n",
    "def response_to_dataframe(response_data):\n",
    "    \n",
    "    data_frames = []\n",
    "    \n",
    "    # Yank out the meta data for each report\n",
    "    for report in response_data.get('reports', []):\n",
    "        headers = report.get('columnHeader', {})\n",
    "        dimension_headers = headers.get('dimensions', [])\n",
    "        metric_details = headers.get('metricHeader', {}).get('metricHeaderEntries', [])\n",
    "        \n",
    "        # Run through to grab metric headers\n",
    "        metric_headers = []\n",
    "        for metric in metric_details:\n",
    "            metric_headers.append(metric.get('name'))\n",
    "        \n",
    "        # Pull dimension headers and metric headers together\n",
    "        column_headers = tuple(dimension_headers + metric_headers)\n",
    "        \n",
    "        # For each report, yank out the actual data values\n",
    "        rows_list = []\n",
    "        for row in report.get('data').get('rows'):\n",
    "            \n",
    "            # Creates a tuple for each row of raw data\n",
    "            row_data = []\n",
    "            for dim_value in row.get('dimensions'):\n",
    "                row_data.append(dim_value)\n",
    "\n",
    "            for metric_value in row.get('metrics')[0].get('values'):\n",
    "                row_data.append(metric_value)\n",
    "\n",
    "            rows_list.append(tuple(row_data))\n",
    "\n",
    "        # Build a data frame out of the data and append to list for multiple reports\n",
    "        df = pd.DataFrame(rows_list, columns=column_headers)\n",
    "        data_frames.append(df)\n",
    "    \n",
    "    return data_frames\n",
    "\n",
    "def remove_ga_prefix(string):\n",
    "    result = string.split(':')[1]\n",
    "    return result\n",
    "\n",
    "def clean_strings(strings, operations):\n",
    "    results = []\n",
    "    for string in strings:\n",
    "        for operation in clean_operations:\n",
    "            string = operation(string)\n",
    "        results.append(string)\n",
    "    return results"
   ]
  },
  {
   "cell_type": "code",
   "execution_count": 3,
   "metadata": {
    "collapsed": true
   },
   "outputs": [],
   "source": [
    "scopes = ['https://www.googleapis.com/auth/analytics.readonly','https://www.googleapis.com/auth/analytics.edit']\n",
    "service_credentials_file = 'client_secrets.json'"
   ]
  },
  {
   "cell_type": "code",
   "execution_count": 59,
   "metadata": {
    "scrolled": true
   },
   "outputs": [
    {
     "name": "stdout",
     "output_type": "stream",
     "text": [
      "All Users = gaid::-1\n",
      "New Users = gaid::-2\n",
      "Returning Users = gaid::-3\n",
      "Paid Traffic = gaid::-4\n",
      "Organic Traffic = gaid::-5\n",
      "Search Traffic = gaid::-6\n",
      "Direct Traffic = gaid::-7\n",
      "Referral Traffic = gaid::-8\n",
      "Sessions with Conversions = gaid::-9\n",
      "Sessions with Transactions = gaid::-10\n",
      "Mobile and Tablet Traffic = gaid::-11\n",
      "Non-bounce Sessions = gaid::-12\n",
      "Tablet Traffic = gaid::-13\n",
      "Mobile Traffic = gaid::-14\n",
      "Tablet and Desktop Traffic = gaid::-15\n",
      "Android Traffic = gaid::-16\n",
      "iOS Traffic = gaid::-17\n",
      "Other Traffic (Neither iOS nor Android) = gaid::-18\n",
      "Bounced Sessions = gaid::-19\n",
      "Single Session Users = gaid::-100\n",
      "Multi-session Users = gaid::-101\n",
      "Converters = gaid::-102\n",
      "Non-Converters = gaid::-103\n",
      "Made a Purchase = gaid::-104\n",
      "Performed Site Search = gaid::-105\n"
     ]
    }
   ],
   "source": [
    "management_client = get_service_client(scopes, 'analytics', 'v3', service_credentials_file)\n",
    "account_summary = get_account_summary(management_client, print_accounts=False)\n",
    "view_ids = get_view_ids(account_summary)\n",
    "segments = get_segments(management_client, print_segments=True)"
   ]
  },
  {
   "cell_type": "code",
   "execution_count": 52,
   "metadata": {
    "scrolled": true
   },
   "outputs": [
    {
     "data": {
      "text/plain": [
       "{'definition': 'sessions::condition::ga:medium==(none)',\n",
       " 'id': '-7',\n",
       " 'kind': 'analytics#segment',\n",
       " 'name': 'Direct Traffic',\n",
       " 'segmentId': 'gaid::-7',\n",
       " 'selfLink': 'https://www.googleapis.com/analytics/v3/management/segments/gaid::-7',\n",
       " 'type': 'BUILT_IN'}"
      ]
     },
     "execution_count": 52,
     "metadata": {},
     "output_type": "execute_result"
    }
   ],
   "source": [
    "segments.get('items')[6]\n",
    "# So I need to make \n",
    "# This has to get tucked into the report request along with view, etc.\n",
    "# \"segments\": [\n",
    "#     {\n",
    "#       object(Segment)\n",
    "#     }\n",
    "#   ],\n",
    "\n",
    "# Segment object has options for dynamic segments, but we're just\n",
    "# just doing segmentId: string from predefined segments\n",
    "# syntax is {\"segmentId\": string}\n",
    "# string is the segment ID e.g. 'gaid::-3'\n",
    "\n"
   ]
  },
  {
   "cell_type": "code",
   "execution_count": null,
   "metadata": {
    "collapsed": true
   },
   "outputs": [],
   "source": [
    "# Also make a check definition function"
   ]
  },
  {
   "cell_type": "code",
   "execution_count": 54,
   "metadata": {},
   "outputs": [],
   "source": [
    "def print_segment_names(segments):\n",
    "    for segment in segments.get('items'):\n",
    "        print(segment.get('name'))"
   ]
  },
  {
   "cell_type": "code",
   "execution_count": 40,
   "metadata": {},
   "outputs": [],
   "source": [
    "def get_segment_ids(segment_name, segment_summary):\n",
    "    segment_ids = []\n",
    "    for segment in segment_summary.get('items'):\n",
    "        if segment.get('name') == segment_name:\n",
    "            segment_ids.append(segment.get('segmentId'))"
   ]
  },
  {
   "cell_type": "code",
   "execution_count": null,
   "metadata": {
    "collapsed": true
   },
   "outputs": [],
   "source": []
  },
  {
   "cell_type": "code",
   "execution_count": 13,
   "metadata": {
    "collapsed": true
   },
   "outputs": [],
   "source": [
    "view_id = view_ids[3].get('view_id')\n",
    "start_date = '28daysAgo'\n",
    "end_date = 'today'\n",
    "\n",
    "data_requests = [\n",
    "    {'metrics': ['sessions', 'pageviews'],\n",
    "     'dimensions': ['country', 'browser']},\n",
    "    {'metrics': ['sessions', 'pageviews', 'bounces'],\n",
    "     'dimensions': ['fullReferrer', 'country', 'browser']}]\n",
    "\n",
    "clean_operations = [str.strip, remove_ga_prefix, str.title]"
   ]
  },
  {
   "cell_type": "code",
   "execution_count": 14,
   "metadata": {
    "collapsed": true
   },
   "outputs": [],
   "source": [
    "reporting_client = get_service_client(scopes, 'analyticsreporting', 'v4', service_credentials_file)\n",
    "request_body = build_request_body(data_requests)\n",
    "request_parameters = build_request_parameters(view_id, start_date, end_date)\n",
    "response_data = get_analytics_data(reporting_client, request_parameters, request_body)\n",
    "analytics_df = response_to_dataframe(response_data)\n",
    "\n",
    "for df in analytics_df:\n",
    "    df.columns = clean_strings(df.columns, clean_operations)"
   ]
  },
  {
   "cell_type": "code",
   "execution_count": 8,
   "metadata": {
    "collapsed": true
   },
   "outputs": [],
   "source": [
    "analytics_df = response_to_dataframe(response_data)\n",
    "\n",
    "for df in analytics_df:\n",
    "    df.columns = clean_strings(df.columns, clean_operations)"
   ]
  },
  {
   "cell_type": "code",
   "execution_count": 9,
   "metadata": {},
   "outputs": [
    {
     "data": {
      "text/html": [
       "<div>\n",
       "<style>\n",
       "    .dataframe thead tr:only-child th {\n",
       "        text-align: right;\n",
       "    }\n",
       "\n",
       "    .dataframe thead th {\n",
       "        text-align: left;\n",
       "    }\n",
       "\n",
       "    .dataframe tbody tr th {\n",
       "        vertical-align: top;\n",
       "    }\n",
       "</style>\n",
       "<table border=\"1\" class=\"dataframe\">\n",
       "  <thead>\n",
       "    <tr style=\"text-align: right;\">\n",
       "      <th></th>\n",
       "      <th>Fullreferrer</th>\n",
       "      <th>Country</th>\n",
       "      <th>Browser</th>\n",
       "      <th>Sessions</th>\n",
       "      <th>Pageviews</th>\n",
       "      <th>Bounces</th>\n",
       "    </tr>\n",
       "  </thead>\n",
       "  <tbody>\n",
       "    <tr>\n",
       "      <th>0</th>\n",
       "      <td>(direct)</td>\n",
       "      <td>Brazil</td>\n",
       "      <td>Chrome</td>\n",
       "      <td>1</td>\n",
       "      <td>1</td>\n",
       "      <td>1</td>\n",
       "    </tr>\n",
       "    <tr>\n",
       "      <th>1</th>\n",
       "      <td>(direct)</td>\n",
       "      <td>Germany</td>\n",
       "      <td>Internet Explorer</td>\n",
       "      <td>1</td>\n",
       "      <td>1</td>\n",
       "      <td>1</td>\n",
       "    </tr>\n",
       "    <tr>\n",
       "      <th>2</th>\n",
       "      <td>(direct)</td>\n",
       "      <td>Italy</td>\n",
       "      <td>Safari</td>\n",
       "      <td>1</td>\n",
       "      <td>1</td>\n",
       "      <td>1</td>\n",
       "    </tr>\n",
       "    <tr>\n",
       "      <th>3</th>\n",
       "      <td>(direct)</td>\n",
       "      <td>Philippines</td>\n",
       "      <td>Chrome</td>\n",
       "      <td>1</td>\n",
       "      <td>1</td>\n",
       "      <td>1</td>\n",
       "    </tr>\n",
       "    <tr>\n",
       "      <th>4</th>\n",
       "      <td>(direct)</td>\n",
       "      <td>United States</td>\n",
       "      <td>Chrome</td>\n",
       "      <td>4</td>\n",
       "      <td>10</td>\n",
       "      <td>1</td>\n",
       "    </tr>\n",
       "  </tbody>\n",
       "</table>\n",
       "</div>"
      ],
      "text/plain": [
       "  Fullreferrer        Country            Browser Sessions Pageviews Bounces\n",
       "0     (direct)         Brazil             Chrome        1         1       1\n",
       "1     (direct)        Germany  Internet Explorer        1         1       1\n",
       "2     (direct)          Italy             Safari        1         1       1\n",
       "3     (direct)    Philippines             Chrome        1         1       1\n",
       "4     (direct)  United States             Chrome        4        10       1"
      ]
     },
     "execution_count": 9,
     "metadata": {},
     "output_type": "execute_result"
    }
   ],
   "source": [
    "analytics_df[1]"
   ]
  }
 ],
 "metadata": {
  "kernelspec": {
   "display_name": "Python 3",
   "language": "python",
   "name": "python3"
  },
  "language_info": {
   "codemirror_mode": {
    "name": "ipython",
    "version": 3
   },
   "file_extension": ".py",
   "mimetype": "text/x-python",
   "name": "python",
   "nbconvert_exporter": "python",
   "pygments_lexer": "ipython3",
   "version": "3.6.3"
  }
 },
 "nbformat": 4,
 "nbformat_minor": 2
}
