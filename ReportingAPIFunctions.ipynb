{
 "cells": [
  {
   "cell_type": "code",
   "execution_count": 1,
   "metadata": {
    "collapsed": true
   },
   "outputs": [],
   "source": [
    "from oauth2client.service_account import ServiceAccountCredentials\n",
    "from googleapiclient.discovery import build\n",
    "import pandas as pd"
   ]
  },
  {
   "cell_type": "code",
   "execution_count": 2,
   "metadata": {
    "collapsed": true
   },
   "outputs": [],
   "source": [
    "# To do:\n",
    "# Need to grab those 'what properties and views do i have access to functions\n",
    "# Need to build a 'this can't change in a report' function (view, date, segment, etc.)\n",
    "# And related, need to build a request list building\n",
    "# Augment/build function to optionally return the max/min value thing\n",
    "# Create clean/prep function that runs in output_to_df function that does things like standardize dimension names, etc.\n",
    "\n",
    "def get_service_client(scopes, api_name, api_version, service_key_file=None, credentials=None):\n",
    "    \n",
    "    if credentials:\n",
    "        service_client = build(api_name, api_version, credentials=credentials)\n",
    "    \n",
    "    else:\n",
    "        credentials = ServiceAccountCredentials.from_json_keyfile_name(service_key_file, scopes=scopes)\n",
    "        service_client = build(api_name, api_version, credentials=credentials)\n",
    "    \n",
    "    return service_client\n",
    "\n",
    "def get_analytics_data(view_id, date_range, reporting_client, request_body):\n",
    "\n",
    "    for request in request_body['reportRequests']:\n",
    "        request.update({'viewId': view_id})\n",
    "        request.update({'dateRanges': [date_range]})\n",
    "\n",
    "    response_data = reporting_client.reports().batchGet(\n",
    "        body=request_body\n",
    "        ).execute()\n",
    "\n",
    "    return response_data\n",
    "\n",
    "def response_to_dataframe(response_data):\n",
    "    \n",
    "    data_frames = []\n",
    "    \n",
    "    # Yank out the meta data for each report\n",
    "    for report in response_data.get('reports', []):\n",
    "        headers = report.get('columnHeader', {})\n",
    "        dimension_headers = headers.get('dimensions', [])\n",
    "        metric_details = headers.get('metricHeader', {}).get('metricHeaderEntries', [])\n",
    "        \n",
    "        # Run through to grab metric headers\n",
    "        metric_headers = []\n",
    "        for metric in metric_details:\n",
    "            metric_headers.append(metric.get('name'))\n",
    "        \n",
    "        # Pull dimension headers and metric headers together\n",
    "        column_headers = tuple(dimension_headers + metric_headers)\n",
    "        \n",
    "        # For each report, yank out the actual data values\n",
    "        rows_list = []\n",
    "        for row in report.get('data').get('rows'):\n",
    "            \n",
    "            # Creates a tuple for each row of raw data\n",
    "            row_data = []\n",
    "            for dim_value in row.get('dimensions'):\n",
    "                row_data.append(dim_value)\n",
    "\n",
    "            for metric_value in row.get('metrics')[0].get('values'):\n",
    "                row_data.append(metric_value)\n",
    "\n",
    "            rows_list.append(tuple(row_data))\n",
    "\n",
    "        # Build a data frame out of the data and append to list for multiple reports\n",
    "        df = pd.DataFrame(rows_list, columns=column_headers)\n",
    "        data_frames.append(df)\n",
    "    \n",
    "    return data_frames"
   ]
  },
  {
   "cell_type": "code",
   "execution_count": 3,
   "metadata": {
    "collapsed": true
   },
   "outputs": [],
   "source": [
    "scopes = ['https://www.googleapis.com/auth/analytics.readonly','https://www.googleapis.com/auth/analytics.edit']\n",
    "service_credentials_file = 'client_secrets.json'\n",
    "api_name = 'analyticsreporting'\n",
    "api_version = 'v4'\n",
    "\n",
    "reporting_client = get_service_client(scopes, api_name, api_version, service_credentials_file)"
   ]
  },
  {
   "cell_type": "code",
   "execution_count": 10,
   "metadata": {},
   "outputs": [
    {
     "ename": "SyntaxError",
     "evalue": "invalid syntax (<ipython-input-10-e98eab0de21c>, line 11)",
     "output_type": "error",
     "traceback": [
      "\u001b[1;36m  File \u001b[1;32m\"<ipython-input-10-e98eab0de21c>\"\u001b[1;36m, line \u001b[1;32m11\u001b[0m\n\u001b[1;33m    return response_data\u001b[0m\n\u001b[1;37m         ^\u001b[0m\n\u001b[1;31mSyntaxError\u001b[0m\u001b[1;31m:\u001b[0m invalid syntax\n"
     ]
    }
   ],
   "source": [
    "def get_analytics_data(view_id, date_range, reporting_client, request_body):\n",
    "\n",
    "    for request in request_body['reportRequests']:\n",
    "        request.update({'viewId': view_id})\n",
    "        request.update({'dateRanges': [date_range]})\n",
    "\n",
    "    response_data = reporting_client.reports().batchGet(\n",
    "        body=(request_body\n",
    "        ).execute()\n",
    "\n",
    "    return response_data\n",
    "\n",
    "# Tricky thing is this needs to be packaged so pull multiple requests into a single request body\n",
    "# So how do I structure the parameter inputs\n",
    "# We're going to pass this requests, lists that contain dictionaries with metrics and dimensions\n",
    "def build_request_body(data_requests):\n",
    "    \n",
    "    for request in data_requests:\n",
    "        \n",
    "    \n",
    "    return request_body"
   ]
  },
  {
   "cell_type": "code",
   "execution_count": 11,
   "metadata": {},
   "outputs": [
    {
     "data": {
      "text/plain": [
       "[[{'dimensions': ['country', 'browser'], 'metrics': ['sessions', 'pageviews']},\n",
       "  {'dimensions': ['fullReferrer', 'country', 'browser'],\n",
       "   'metrics': ['sessions', 'pageviews', 'bounces']}]]"
      ]
     },
     "execution_count": 11,
     "metadata": {},
     "output_type": "execute_result"
    }
   ],
   "source": [
    "data_requests = [\n",
    "    [{'metrics': ['sessions', 'pageviews'],\n",
    "      'dimensions': ['country', 'browser']},\n",
    "     {'metrics': ['sessions', 'pageviews', 'bounces'],\n",
    "      'dimensions': ['fullReferrer', 'country', 'browser']}]]\n",
    "\n",
    "data_requests"
   ]
  },
  {
   "cell_type": "code",
   "execution_count": 4,
   "metadata": {
    "collapsed": true
   },
   "outputs": [],
   "source": [
    "view_id = '95100800'\n",
    "date_range = {'startDate': '28daysAgo', 'endDate': 'today'}\n",
    "request_body = {\n",
    "        'reportRequests': [\n",
    "            {\n",
    "              'metrics': [{'expression': 'ga:sessions'}, {'expression': 'ga:pageviews'}],\n",
    "              'dimensions': [{'name': 'ga:country'},{'name': 'ga:browser'}]\n",
    "            },\n",
    "            {\n",
    "              'metrics': [{'expression': 'ga:sessions'}],\n",
    "              'dimensions': [{'name': 'ga:browser'}, {'name': 'ga:country'}]\n",
    "            },\n",
    "            {\n",
    "              'metrics': [{'expression': 'ga:sessions'}, {'expression': 'ga:sessions'}, {'expression': 'ga:bounces'}],\n",
    "              'dimensions': [{'name': 'ga:browser'}, {'name': 'ga:country'}, {'name': 'ga:fullReferrer'}]\n",
    "            }]\n",
    "            }\n",
    "\n",
    "response_data = get_analytics_data(view_id, date_range, reporting_client, request_body)"
   ]
  },
  {
   "cell_type": "code",
   "execution_count": null,
   "metadata": {},
   "outputs": [],
   "source": [
    "analytics_df = response_to_dataframe(response_data)"
   ]
  }
 ],
 "metadata": {
  "kernelspec": {
   "display_name": "Python 3",
   "language": "python",
   "name": "python3"
  },
  "language_info": {
   "codemirror_mode": {
    "name": "ipython",
    "version": 3
   },
   "file_extension": ".py",
   "mimetype": "text/x-python",
   "name": "python",
   "nbconvert_exporter": "python",
   "pygments_lexer": "ipython3",
   "version": "3.6.3"
  }
 },
 "nbformat": 4,
 "nbformat_minor": 2
}
