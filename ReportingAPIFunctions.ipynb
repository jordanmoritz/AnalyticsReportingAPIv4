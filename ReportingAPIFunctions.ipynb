{
 "cells": [
  {
   "cell_type": "code",
   "execution_count": 1,
   "metadata": {
    "collapsed": true
   },
   "outputs": [],
   "source": [
    "from oauth2client.service_account import ServiceAccountCredentials\n",
    "from googleapiclient.discovery import build\n",
    "import pprint\n",
    "import pandas as pd"
   ]
  },
  {
   "cell_type": "code",
   "execution_count": 2,
   "metadata": {
    "collapsed": true
   },
   "outputs": [],
   "source": [
    "# To do:\n",
    "# Need to grab those 'what properties and views do i have access to functions\n",
    "# Need to build a 'this can't change in a report' function (view, date, segment, etc.)\n",
    "# Need to build a build_request body function (this is partially happening in the get the data function)\n",
    "# And related, need to build a request list building\n",
    "# Augment/build function to optionally return the max/min value thing\n",
    "\n",
    "\n",
    "def get_service_client(scopes, api_name, api_version, service_key_file=None, credentials=None):\n",
    "    \n",
    "    if credentials:\n",
    "        service_client = build(api_name, api_version, credentials=credentials)\n",
    "    \n",
    "    else:\n",
    "        credentials = ServiceAccountCredentials.from_json_keyfile_name(service_key_file, scopes=scopes)\n",
    "        service_client = build(api_name, api_version, credentials=credentials)\n",
    "    \n",
    "    return service_client\n",
    "\n",
    "def get_analytics_data(view_id, date_range, reporting_client, request_body):\n",
    "\n",
    "    for request in request_body['reportRequests']:\n",
    "        request.update({'viewId': view_id})\n",
    "        request.update({'dateRanges': [date_range]})\n",
    "\n",
    "    data_output = reporting_client.reports().batchGet(\n",
    "        body=request_body\n",
    "        ).execute()\n",
    "\n",
    "    return data_output"
   ]
  },
  {
   "cell_type": "code",
   "execution_count": 3,
   "metadata": {
    "collapsed": true
   },
   "outputs": [],
   "source": [
    "scopes = ['https://www.googleapis.com/auth/analytics.readonly','https://www.googleapis.com/auth/analytics.edit']\n",
    "service_credentials_file = 'client_secrets.json'\n",
    "api_name = 'analyticsreporting'\n",
    "api_version = 'v4'\n",
    "\n",
    "reporting_client = get_service_client(scopes, api_name, api_version, service_credentials_file)"
   ]
  },
  {
   "cell_type": "code",
   "execution_count": 4,
   "metadata": {
    "collapsed": true
   },
   "outputs": [],
   "source": [
    "view_id = '95100800'\n",
    "date_range = {'startDate': '28daysAgo', 'endDate': 'today'}\n",
    "# So it is two in the request body\n",
    "request_body = {\n",
    "        'reportRequests': [\n",
    "            {\n",
    "              'metrics': [{'expression': 'ga:sessions'}, {'expression': 'ga:pageviews'}],\n",
    "              'dimensions': [{'name': 'ga:country'},{'name': 'ga:browser'}]\n",
    "            }]\n",
    "        }\n",
    "#             {\n",
    "#               'metrics': [{'expression': 'ga:sessions'}],\n",
    "#               'dimensions': [{'name': 'ga:browser'}]\n",
    "#             }]\n",
    "#     }"
   ]
  },
  {
   "cell_type": "code",
   "execution_count": 5,
   "metadata": {},
   "outputs": [
    {
     "data": {
      "text/plain": [
       "{'reports': [{'columnHeader': {'dimensions': ['ga:country', 'ga:browser'],\n",
       "    'metricHeader': {'metricHeaderEntries': [{'name': 'ga:sessions',\n",
       "       'type': 'INTEGER'},\n",
       "      {'name': 'ga:pageviews', 'type': 'INTEGER'}]}},\n",
       "   'data': {'maximums': [{'values': ['4', '10']}],\n",
       "    'minimums': [{'values': ['1', '1']}],\n",
       "    'rowCount': 5,\n",
       "    'rows': [{'dimensions': ['Brazil', 'Chrome'],\n",
       "      'metrics': [{'values': ['1', '1']}]},\n",
       "     {'dimensions': ['Germany', 'Internet Explorer'],\n",
       "      'metrics': [{'values': ['1', '1']}]},\n",
       "     {'dimensions': ['Italy', 'Safari'], 'metrics': [{'values': ['1', '1']}]},\n",
       "     {'dimensions': ['Philippines', 'Chrome'],\n",
       "      'metrics': [{'values': ['1', '1']}]},\n",
       "     {'dimensions': ['United States', 'Chrome'],\n",
       "      'metrics': [{'values': ['4', '10']}]}],\n",
       "    'totals': [{'values': ['8', '14']}]}}]}"
      ]
     },
     "execution_count": 5,
     "metadata": {},
     "output_type": "execute_result"
    }
   ],
   "source": [
    "report_output = get_analytics_data(view_id, date_range, reporting_client, request_body)\n",
    "report_output"
   ]
  },
  {
   "cell_type": "code",
   "execution_count": 6,
   "metadata": {},
   "outputs": [
    {
     "name": "stdout",
     "output_type": "stream",
     "text": [
      "{'reports': [{'columnHeader': {'dimensions': ['ga:country', 'ga:browser'],\n",
      "                               'metricHeader': {'metricHeaderEntries': [{'name': 'ga:sessions',\n",
      "                                                                         'type': 'INTEGER'},\n",
      "                                                                        {'name': 'ga:pageviews',\n",
      "                                                                         'type': 'INTEGER'}]}},\n",
      "              'data': {'maximums': [{'values': ['4', '10']}],\n",
      "                       'minimums': [{'values': ['1', '1']}],\n",
      "                       'rowCount': 5,\n",
      "                       'rows': [{'dimensions': ['Brazil', 'Chrome'],\n",
      "                                 'metrics': [{'values': ['1', '1']}]},\n",
      "                                {'dimensions': ['Germany', 'Internet Explorer'],\n",
      "                                 'metrics': [{'values': ['1', '1']}]},\n",
      "                                {'dimensions': ['Italy', 'Safari'],\n",
      "                                 'metrics': [{'values': ['1', '1']}]},\n",
      "                                {'dimensions': ['Philippines', 'Chrome'],\n",
      "                                 'metrics': [{'values': ['1', '1']}]},\n",
      "                                {'dimensions': ['United States', 'Chrome'],\n",
      "                                 'metrics': [{'values': ['4', '10']}]}],\n",
      "                       'totals': [{'values': ['8', '14']}]}}]}\n"
     ]
    }
   ],
   "source": [
    "pp = pprint.PrettyPrinter()\n",
    "\n",
    "pp.pprint(report_output)"
   ]
  },
  {
   "cell_type": "code",
   "execution_count": 31,
   "metadata": {},
   "outputs": [
    {
     "name": "stdout",
     "output_type": "stream",
     "text": [
      "['ga:country', 'ga:browser']\n"
     ]
    },
    {
     "data": {
      "text/plain": [
       "{'name': 'ga:pageviews', 'type': 'INTEGER'}"
      ]
     },
     "execution_count": 31,
     "metadata": {},
     "output_type": "execute_result"
    }
   ],
   "source": [
    "dims = report_output.get('reports')[0].get('columnHeader').get('dimensions')\n",
    "print(dims)\n",
    "metrics = report_output.get('reports')[0].get('columnHeader').get('metricHeader').get('metricHeaderEntries')\n",
    "metrics\n",
    "# metrics[0].get('name')\n"
   ]
  },
  {
   "cell_type": "code",
   "execution_count": 28,
   "metadata": {},
   "outputs": [
    {
     "data": {
      "text/plain": [
       "[{'name': 'ga:sessions', 'type': 'INTEGER'},\n",
       " {'name': 'ga:pageviews', 'type': 'INTEGER'}]"
      ]
     },
     "execution_count": 28,
     "metadata": {},
     "output_type": "execute_result"
    }
   ],
   "source": [
    "metric_list = [metric_header for metric_header in metrics]\n",
    "metric_list"
   ]
  },
  {
   "cell_type": "code",
   "execution_count": 39,
   "metadata": {},
   "outputs": [
    {
     "data": {
      "text/plain": [
       "['ga:sessions', 'ga:pageviews']"
      ]
     },
     "execution_count": 39,
     "metadata": {},
     "output_type": "execute_result"
    }
   ],
   "source": [
    "metric_headers = []\n",
    "for metric in metric_list:\n",
    "    metric_headers.append(metric.get('name'))\n",
    "\n",
    "metric_headers"
   ]
  },
  {
   "cell_type": "code",
   "execution_count": 43,
   "metadata": {},
   "outputs": [
    {
     "data": {
      "text/plain": [
       "['ga:country', 'ga:browser', 'ga:sessions', 'ga:pageviews']"
      ]
     },
     "execution_count": 43,
     "metadata": {},
     "output_type": "execute_result"
    }
   ],
   "source": [
    "all_heads = dims + metric_headers\n",
    "all_heads"
   ]
  },
  {
   "cell_type": "code",
   "execution_count": 36,
   "metadata": {},
   "outputs": [
    {
     "ename": "SyntaxError",
     "evalue": "invalid syntax (<ipython-input-36-49a245b966a4>, line 13)",
     "output_type": "error",
     "traceback": [
      "\u001b[1;36m  File \u001b[1;32m\"<ipython-input-36-49a245b966a4>\"\u001b[1;36m, line \u001b[1;32m13\u001b[0m\n\u001b[1;33m    report_headers = [for dim in dimensions_headers]\u001b[0m\n\u001b[1;37m                        ^\u001b[0m\n\u001b[1;31mSyntaxError\u001b[0m\u001b[1;31m:\u001b[0m invalid syntax\n"
     ]
    }
   ],
   "source": [
    "def output_to_df(data_output):\n",
    "\n",
    "    # Yank out the meta data for each report\n",
    "    for report in data_output.get('reports', []):\n",
    "        headers = report.get('columnHeader', {})\n",
    "        dimension_headers = headers.get('dimensions', [])\n",
    "        metric_details = headers.get('metricHeader', {}).get('metricHeaderEntries', [])\n",
    "        \n",
    "        # Run through to grab metric headers\n",
    "        metric_headers = []\n",
    "        for metric in metric_details:\n",
    "            metric_headers.append(metric.get('name'))\n",
    "        \n",
    "        column_headers = zip()\n",
    "        report_headers = [for dim in dimensions_headers]\n",
    "        # For each report, yank out the actual data values\n",
    "        for row in report.get('data').get('rows'):\n",
    "            \n",
    "#     Add some flavor in here that drops the ga: and cases the first letter\n",
    "        "
   ]
  },
  {
   "cell_type": "code",
   "execution_count": null,
   "metadata": {
    "collapsed": true
   },
   "outputs": [],
   "source": [
    "data_list = []\n",
    "\n",
    "for row in data_rows:\n",
    "    print(\"Row:\", row)\n",
    "    data_row = []\n",
    "    \n",
    "    for dimension in row.get('dimensions'):\n",
    "        print(\"Dim:\", dimension)\n",
    "        data_row.append(dimension)\n",
    "        print(\"Appended row end of Dim:\", data_row)\n",
    "        \n",
    "    for metric in row.get('metrics')[0].get('values'):\n",
    "        print(\"Met:\", metric)\n",
    "        data_row.append(metric)\n",
    "        print(\"Append row end of Val\", data_row)\n",
    "    \n",
    "    data_list.append(data_row)\n",
    "        \n",
    "test_data_df = pd.DataFrame(data_list)\n",
    "test_data_df"
   ]
  },
  {
   "cell_type": "code",
   "execution_count": 7,
   "metadata": {},
   "outputs": [
    {
     "data": {
      "text/plain": [
       "[{'dimensions': ['Brazil', 'Chrome'], 'metrics': [{'values': ['1', '1']}]},\n",
       " {'dimensions': ['Germany', 'Internet Explorer'],\n",
       "  'metrics': [{'values': ['1', '1']}]},\n",
       " {'dimensions': ['Italy', 'Safari'], 'metrics': [{'values': ['1', '1']}]},\n",
       " {'dimensions': ['Philippines', 'Chrome'],\n",
       "  'metrics': [{'values': ['1', '1']}]},\n",
       " {'dimensions': ['United States', 'Chrome'],\n",
       "  'metrics': [{'values': ['4', '10']}]}]"
      ]
     },
     "execution_count": 7,
     "metadata": {},
     "output_type": "execute_result"
    }
   ],
   "source": [
    "report_output.get('reports')[0].get('data').get('rows')"
   ]
  },
  {
   "cell_type": "code",
   "execution_count": 8,
   "metadata": {},
   "outputs": [
    {
     "data": {
      "text/html": [
       "<div>\n",
       "<style>\n",
       "    .dataframe thead tr:only-child th {\n",
       "        text-align: right;\n",
       "    }\n",
       "\n",
       "    .dataframe thead th {\n",
       "        text-align: left;\n",
       "    }\n",
       "\n",
       "    .dataframe tbody tr th {\n",
       "        vertical-align: top;\n",
       "    }\n",
       "</style>\n",
       "<table border=\"1\" class=\"dataframe\">\n",
       "  <thead>\n",
       "    <tr style=\"text-align: right;\">\n",
       "      <th></th>\n",
       "      <th>Country</th>\n",
       "      <th>Browser</th>\n",
       "      <th>Sessions</th>\n",
       "      <th>Pageviews</th>\n",
       "    </tr>\n",
       "  </thead>\n",
       "  <tbody>\n",
       "    <tr>\n",
       "      <th>0</th>\n",
       "      <td>Brazil</td>\n",
       "      <td>Chrome</td>\n",
       "      <td>1</td>\n",
       "      <td>1</td>\n",
       "    </tr>\n",
       "    <tr>\n",
       "      <th>1</th>\n",
       "      <td>US</td>\n",
       "      <td>IE</td>\n",
       "      <td>4</td>\n",
       "      <td>1</td>\n",
       "    </tr>\n",
       "    <tr>\n",
       "      <th>2</th>\n",
       "      <td>Germany</td>\n",
       "      <td>FF</td>\n",
       "      <td>8</td>\n",
       "      <td>6</td>\n",
       "    </tr>\n",
       "    <tr>\n",
       "      <th>3</th>\n",
       "      <td>Philippines</td>\n",
       "      <td>Chrome</td>\n",
       "      <td>3</td>\n",
       "      <td>2</td>\n",
       "    </tr>\n",
       "  </tbody>\n",
       "</table>\n",
       "</div>"
      ],
      "text/plain": [
       "       Country Browser Sessions Pageviews\n",
       "0       Brazil  Chrome        1         1\n",
       "1           US      IE        4         1\n",
       "2      Germany      FF        8         6\n",
       "3  Philippines  Chrome        3         2"
      ]
     },
     "execution_count": 8,
     "metadata": {},
     "output_type": "execute_result"
    }
   ],
   "source": [
    "# Testing to make sure the format I'm making can load into the df alright\n",
    "test_list = [['Brazil', 'Chrome', '1', '1'],\n",
    "             ['US', 'IE', '4', '1'],\n",
    "             ['Germany', 'FF', '8', '6'],\n",
    "             ['Philippines', 'Chrome', '3', '2']]\n",
    "\n",
    "test_header = ['Country', 'Browser', 'Sessions', 'Pageviews']\n",
    "\n",
    "test_df = pd.DataFrame(test_list, columns=test_header)\n",
    "test_df"
   ]
  },
  {
   "cell_type": "code",
   "execution_count": 9,
   "metadata": {},
   "outputs": [
    {
     "name": "stdout",
     "output_type": "stream",
     "text": [
      "[{'dimensions': ['Brazil', 'Chrome'], 'metrics': [{'values': ['1', '1']}]},\n",
      " {'dimensions': ['Germany', 'Internet Explorer'],\n",
      "  'metrics': [{'values': ['1', '1']}]},\n",
      " {'dimensions': ['Italy', 'Safari'], 'metrics': [{'values': ['1', '1']}]},\n",
      " {'dimensions': ['Philippines', 'Chrome'], 'metrics': [{'values': ['1', '1']}]},\n",
      " {'dimensions': ['United States', 'Chrome'],\n",
      "  'metrics': [{'values': ['4', '10']}]}]\n"
     ]
    }
   ],
   "source": [
    "data_rows = report_output.get('reports')[0].get('data').get('rows')\n",
    "pp.pprint(data_rows)"
   ]
  },
  {
   "cell_type": "code",
   "execution_count": null,
   "metadata": {},
   "outputs": [],
   "source": [
    "headers = report_output.get('reports')[0].get('columnHeader')\n",
    "headers\n",
    "# headers.get('dimensions')\n",
    "headers.get('metricHeader')\n",
    "\n",
    "# pp.pprint(report_output.get('reports')[0].get('data'))"
   ]
  },
  {
   "cell_type": "code",
   "execution_count": null,
   "metadata": {},
   "outputs": [],
   "source": [
    "# take the list comprehension approach\n",
    "dim_headers = [header for header in headers.get('dimensions')]\n",
    "dim_headers"
   ]
  },
  {
   "cell_type": "code",
   "execution_count": null,
   "metadata": {
    "collapsed": true
   },
   "outputs": [],
   "source": [
    "def print_response(response):\n",
    "  \n",
    "  for report in response.get('reports', []):\n",
    "    columnHeader = report.get('columnHeader', {})\n",
    "    dimensionHeaders = columnHeader.get('dimensions', [])\n",
    "    metricHeaders = columnHeader.get('metricHeader', {}).get('metricHeaderEntries', [])\n",
    "\n",
    "    for row in report.get('data', {}).get('rows', []):\n",
    "        dimensions = row.get('dimensions', [])\n",
    "        dateRangeValues = row.get('metrics', [])\n",
    "        \n",
    "        for header, dimension in zip(dimensionHeaders, dimensions):\n",
    "            print(header + ': ' + dimension)\n",
    "        \n",
    "        for i, values in enumerate(dateRangeValues):\n",
    "            print('Date range: ' + str(i))\n",
    "            \n",
    "            for metricHeader, value in zip(metricHeaders, values.get('values')):\n",
    "                print(metricHeader.get('name') + ': ' + value)"
   ]
  },
  {
   "cell_type": "code",
   "execution_count": null,
   "metadata": {},
   "outputs": [],
   "source": [
    "print_response(report_output)"
   ]
  },
  {
   "cell_type": "code",
   "execution_count": null,
   "metadata": {},
   "outputs": [],
   "source": [
    "\n",
    "#Parse the response of API\n",
    "def parse_response(report):\n",
    "\n",
    "    \"\"\"Parses and prints the Analytics Reporting API V4 response\"\"\"\n",
    "    #Initialize results, in list format because two dataframes might return\n",
    "    result_list = []\n",
    "\n",
    "    #Initialize empty data container for the two dateranges (if there are two that is)\n",
    "    data_csv = []\n",
    "    data_csv2 = []\n",
    "\n",
    "    #Initialize header rows\n",
    "    header_row = []\n",
    "\n",
    "    #Get column headers, metric headers, and dimension headers.\n",
    "    columnHeader = report.get('columnHeader', {})\n",
    "    metricHeaders = columnHeader.get('metricHeader', {}).get('metricHeaderEntries', [])\n",
    "    dimensionHeaders = columnHeader.get('dimensions', [])\n",
    "\n",
    "    #Combine all of those headers into the header_row, which is in a list format\n",
    "    for dheader in dimensionHeaders:\n",
    "        header_row.append(dheader)\n",
    "    for mheader in metricHeaders:\n",
    "        header_row.append(mheader['name'])\n",
    "\n",
    "    #Get data from each of the rows, and append them into a list\n",
    "    rows = report.get('data', {}).get('rows', [])\n",
    "    for row in rows:\n",
    "        row_temp = []\n",
    "        dimensions = row.get('dimensions', [])\n",
    "        metrics = row.get('metrics', [])\n",
    "        for d in dimensions:\n",
    "            row_temp.append(d)\n",
    "        for m in metrics[0]['values']:\n",
    "            row_temp.append(m)\n",
    "            data_csv.append(row_temp)\n",
    "\n",
    "        #In case of a second date range, do the same thing for the second request\n",
    "        if len(metrics) == 2:\n",
    "            row_temp2 = []\n",
    "            for d in dimensions:\n",
    "                row_temp2.append(d)\n",
    "            for m in metrics[1]['values']:\n",
    "                row_temp2.append(m)\n",
    "            data_csv2.append(row_temp2)\n",
    "    \n",
    "#     Looking at their output\n",
    "    print(data_csv)\n",
    "    \n",
    "    #Putting those list formats into pandas dataframe, and append them into the final result\n",
    "    result_df = pd.DataFrame(data_csv, columns=header_row)\n",
    "    result_list.append(result_df)\n",
    "    if data_csv2 != []:\n",
    "        result_list.append(pandas.DataFrame(data_csv2, columns=header_row))\n",
    "\n",
    "    return result_list"
   ]
  },
  {
   "cell_type": "code",
   "execution_count": null,
   "metadata": {},
   "outputs": [],
   "source": [
    "result = parse_response(report_output)"
   ]
  },
  {
   "cell_type": "code",
   "execution_count": null,
   "metadata": {},
   "outputs": [],
   "source": [
    "result"
   ]
  }
 ],
 "metadata": {
  "kernelspec": {
   "display_name": "Python 3",
   "language": "python",
   "name": "python3"
  },
  "language_info": {
   "codemirror_mode": {
    "name": "ipython",
    "version": 3
   },
   "file_extension": ".py",
   "mimetype": "text/x-python",
   "name": "python",
   "nbconvert_exporter": "python",
   "pygments_lexer": "ipython3",
   "version": "3.6.3"
  }
 },
 "nbformat": 4,
 "nbformat_minor": 2
}
