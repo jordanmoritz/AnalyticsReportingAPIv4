{
 "cells": [
  {
   "cell_type": "code",
   "execution_count": 1,
   "metadata": {
    "collapsed": true
   },
   "outputs": [],
   "source": [
    "from oauth2client.service_account import ServiceAccountCredentials\n",
    "from googleapiclient.discovery import build\n",
    "import pandas as pd"
   ]
  },
  {
   "cell_type": "code",
   "execution_count": 2,
   "metadata": {
    "collapsed": true
   },
   "outputs": [],
   "source": [
    "def get_service_client(scopes, api_name, api_version, service_key_file=None, credentials=None):\n",
    "    \n",
    "    if credentials:\n",
    "        service_client = build(api_name, api_version, credentials=credentials)\n",
    "    \n",
    "    else:\n",
    "        credentials = ServiceAccountCredentials.from_json_keyfile_name(service_key_file, scopes=scopes)\n",
    "        print(credentials, api_name, api_version)\n",
    "        service_client = build(api_name, api_version, credentials=credentials)\n",
    "    \n",
    "    return service_client"
   ]
  },
  {
   "cell_type": "code",
   "execution_count": 3,
   "metadata": {},
   "outputs": [
    {
     "name": "stdout",
     "output_type": "stream",
     "text": [
      "<oauth2client.service_account.ServiceAccountCredentials object at 0x000001ED0466AA20> analyticsreporting v4\n"
     ]
    }
   ],
   "source": [
    "scopes = ['https://www.googleapis.com/auth/analytics.readonly','https://www.googleapis.com/auth/analytics.edit']\n",
    "service_credentials_file = 'client_secrets.json'\n",
    "api_name = 'analyticsreporting'\n",
    "api_version = 'v4'\n",
    "\n",
    "reporting_client = get_service_client(scopes, api_name, api_version, service_credentials_file)"
   ]
  },
  {
   "cell_type": "code",
   "execution_count": 14,
   "metadata": {},
   "outputs": [
    {
     "ename": "SyntaxError",
     "evalue": "invalid syntax (<ipython-input-14-505d9b5725f8>, line 2)",
     "output_type": "error",
     "traceback": [
      "\u001b[1;36m  File \u001b[1;32m\"<ipython-input-14-505d9b5725f8>\"\u001b[1;36m, line \u001b[1;32m2\u001b[0m\n\u001b[1;33m    def get_analytics_data(view_id, reporting_client, )\u001b[0m\n\u001b[1;37m                                                       ^\u001b[0m\n\u001b[1;31mSyntaxError\u001b[0m\u001b[1;31m:\u001b[0m invalid syntax\n"
     ]
    }
   ],
   "source": [
    "view_id = '95100800'\n",
    "def get_analytics_data(view_id, reporting_client, request_list)\n",
    "\n",
    "    for request in request_list"
   ]
  },
  {
   "cell_type": "code",
   "execution_count": 7,
   "metadata": {
    "collapsed": true
   },
   "outputs": [],
   "source": [
    "# Need to grab those 'what properties and views do i have access to functions"
   ]
  },
  {
   "cell_type": "code",
   "execution_count": 9,
   "metadata": {
    "collapsed": true
   },
   "outputs": [],
   "source": [
    "body={\n",
    "    'reportRequests': [\n",
    "        {\n",
    "          'viewId': view_id,\n",
    "          'dateRanges': [{'startDate': '28daysAgo', 'endDate': 'today'}],\n",
    "          'metrics': [{'expression': 'ga:sessions'}],\n",
    "          'dimensions': [{'name': 'ga:country'}]\n",
    "        }]\n",
    "      }"
   ]
  },
  {
   "cell_type": "code",
   "execution_count": 19,
   "metadata": {},
   "outputs": [
    {
     "name": "stdout",
     "output_type": "stream",
     "text": [
      "{'viewId': '95100800', 'dateRanges': [{'startDate': '28daysAgo', 'endDate': 'today'}], 'metrics': [{'expression': 'ga:sessions'}], 'dimensions': [{'name': 'ga:country'}]}\n"
     ]
    }
   ],
   "source": [
    "for request in body['reportRequests']:\n",
    "    print(request)\n",
    "#     for "
   ]
  },
  {
   "cell_type": "code",
   "execution_count": 5,
   "metadata": {
    "collapsed": true
   },
   "outputs": [],
   "source": [
    "view_id = '95100800'\n",
    "\n",
    "report_output = reporting_client.reports().batchGet(\n",
    "    body={\n",
    "    'reportRequests': [\n",
    "        {\n",
    "          'viewId': view_id,\n",
    "          'dateRanges': [{'startDate': '28daysAgo', 'endDate': 'today'}],\n",
    "          'metrics': [{'expression': 'ga:sessions'}],\n",
    "          'dimensions': [{'name': 'ga:country'}]\n",
    "        }]\n",
    "      }\n",
    "    ).execute()"
   ]
  },
  {
   "cell_type": "code",
   "execution_count": null,
   "metadata": {},
   "outputs": [],
   "source": [
    "type(report_output)"
   ]
  },
  {
   "cell_type": "code",
   "execution_count": 6,
   "metadata": {},
   "outputs": [
    {
     "data": {
      "text/plain": [
       "[{'columnHeader': {'dimensions': ['ga:country'],\n",
       "   'metricHeader': {'metricHeaderEntries': [{'name': 'ga:sessions',\n",
       "      'type': 'INTEGER'}]}},\n",
       "  'data': {'maximums': [{'values': ['4']}],\n",
       "   'minimums': [{'values': ['1']}],\n",
       "   'rowCount': 4,\n",
       "   'rows': [{'dimensions': ['Brazil'], 'metrics': [{'values': ['1']}]},\n",
       "    {'dimensions': ['Italy'], 'metrics': [{'values': ['1']}]},\n",
       "    {'dimensions': ['Philippines'], 'metrics': [{'values': ['1']}]},\n",
       "    {'dimensions': ['United States'], 'metrics': [{'values': ['4']}]}],\n",
       "   'totals': [{'values': ['7']}]}}]"
      ]
     },
     "execution_count": 6,
     "metadata": {},
     "output_type": "execute_result"
    }
   ],
   "source": [
    "report_output['reports']"
   ]
  },
  {
   "cell_type": "code",
   "execution_count": null,
   "metadata": {
    "collapsed": true
   },
   "outputs": [],
   "source": [
    "def print_response(response):\n",
    "  \n",
    "  for report in response.get('reports', []):\n",
    "    columnHeader = report.get('columnHeader', {})\n",
    "    dimensionHeaders = columnHeader.get('dimensions', [])\n",
    "    metricHeaders = columnHeader.get('metricHeader', {}).get('metricHeaderEntries', [])\n",
    "\n",
    "    for row in report.get('data', {}).get('rows', []):\n",
    "        dimensions = row.get('dimensions', [])\n",
    "        dateRangeValues = row.get('metrics', [])\n",
    "        \n",
    "        for header, dimension in zip(dimensionHeaders, dimensions):\n",
    "            print(header + ': ' + dimension)\n",
    "        \n",
    "        for i, values in enumerate(dateRangeValues):\n",
    "            print('Date range: ' + str(i))\n",
    "            \n",
    "            for metricHeader, value in zip(metricHeaders, values.get('values')):\n",
    "                print(metricHeader.get('name') + ': ' + value)\n",
    "\n"
   ]
  },
  {
   "cell_type": "code",
   "execution_count": null,
   "metadata": {},
   "outputs": [],
   "source": [
    "print_response(report_output)"
   ]
  },
  {
   "cell_type": "code",
   "execution_count": null,
   "metadata": {
    "collapsed": true
   },
   "outputs": [],
   "source": [
    "\n",
    "#Parse the response of API\n",
    "def parse_response(report):\n",
    "\n",
    "    \"\"\"Parses and prints the Analytics Reporting API V4 response\"\"\"\n",
    "    #Initialize results, in list format because two dataframes might return\n",
    "    result_list = []\n",
    "\n",
    "    #Initialize empty data container for the two dateranges (if there are two that is)\n",
    "    data_csv = []\n",
    "    data_csv2 = []\n",
    "\n",
    "    #Initialize header rows\n",
    "    header_row = []\n",
    "\n",
    "    #Get column headers, metric headers, and dimension headers.\n",
    "    columnHeader = report.get('columnHeader', {})\n",
    "    metricHeaders = columnHeader.get('metricHeader', {}).get('metricHeaderEntries', [])\n",
    "    dimensionHeaders = columnHeader.get('dimensions', [])\n",
    "\n",
    "    #Combine all of those headers into the header_row, which is in a list format\n",
    "    for dheader in dimensionHeaders:\n",
    "        header_row.append(dheader)\n",
    "    for mheader in metricHeaders:\n",
    "        header_row.append(mheader['name'])\n",
    "\n",
    "    #Get data from each of the rows, and append them into a list\n",
    "    rows = report.get('data', {}).get('rows', [])\n",
    "    for row in rows:\n",
    "        row_temp = []\n",
    "        dimensions = row.get('dimensions', [])\n",
    "        metrics = row.get('metrics', [])\n",
    "        for d in dimensions:\n",
    "            row_temp.append(d)\n",
    "        for m in metrics[0]['values']:\n",
    "            row_temp.append(m)\n",
    "            data_csv.append(row_temp)\n",
    "\n",
    "        #In case of a second date range, do the same thing for the second request\n",
    "        if len(metrics) == 2:\n",
    "            row_temp2 = []\n",
    "            for d in dimensions:\n",
    "                row_temp2.append(d)\n",
    "            for m in metrics[1]['values']:\n",
    "                row_temp2.append(m)\n",
    "            data_csv2.append(row_temp2)\n",
    "\n",
    "    #Putting those list formats into pandas dataframe, and append them into the final result\n",
    "    result_df = pd.DataFrame(data_csv, columns=header_row)\n",
    "    result_list.append(result_df)\n",
    "    if data_csv2 != []:\n",
    "        result_list.append(pandas.DataFrame(data_csv2, columns=header_row))\n",
    "\n",
    "    return result_list"
   ]
  },
  {
   "cell_type": "code",
   "execution_count": null,
   "metadata": {
    "collapsed": true
   },
   "outputs": [],
   "source": [
    "result = parse_response(report_output)"
   ]
  },
  {
   "cell_type": "code",
   "execution_count": null,
   "metadata": {},
   "outputs": [],
   "source": [
    "result"
   ]
  }
 ],
 "metadata": {
  "kernelspec": {
   "display_name": "Python 3",
   "language": "python",
   "name": "python3"
  },
  "language_info": {
   "codemirror_mode": {
    "name": "ipython",
    "version": 3
   },
   "file_extension": ".py",
   "mimetype": "text/x-python",
   "name": "python",
   "nbconvert_exporter": "python",
   "pygments_lexer": "ipython3",
   "version": "3.6.3"
  }
 },
 "nbformat": 4,
 "nbformat_minor": 2
}
