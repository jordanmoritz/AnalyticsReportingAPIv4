{
 "cells": [
  {
   "cell_type": "code",
   "execution_count": 1,
   "metadata": {
    "collapsed": true
   },
   "outputs": [],
   "source": [
    "from oauth2client.service_account import ServiceAccountCredentials\n",
    "from googleapiclient.discovery import build\n",
    "import pprint\n",
    "import pandas as pd\n",
    "\n",
    "pp = pprint.PrettyPrinter()"
   ]
  },
  {
   "cell_type": "code",
   "execution_count": 59,
   "metadata": {},
   "outputs": [],
   "source": [
    "# To do:\n",
    "# Setup config parser\n",
    "\n",
    "# General functions\n",
    "def get_service_client(scopes, api_name, api_version, service_key_file=None, credentials=None):\n",
    "    \n",
    "    if credentials:\n",
    "        service_client = build(api_name, api_version, credentials=credentials)\n",
    "    \n",
    "    else:\n",
    "        credentials = ServiceAccountCredentials.from_json_keyfile_name(service_key_file, scopes=scopes)\n",
    "        service_client = build(api_name, api_version, credentials=credentials)\n",
    "    \n",
    "    return service_client\n",
    "\n",
    "# Management API functions\n",
    "def print_accounts(account_summary):\n",
    "    for account in account_summary.get('items'):\n",
    "        print(f\"\\nAccount: {account.get('name')}\")\n",
    "        for prop in account.get('webProperties'):\n",
    "            print(f\"\\tProperty: {prop.get('name')}\")\n",
    "            for view in prop.get('profiles'):\n",
    "                print(f\"\\t\\tView: {view.get('name')} - {view.get('id')}\")\n",
    "\n",
    "def get_account_summary(management_client, print_accounts=None):\n",
    "    \"\"\"\n",
    "    Requires that you pass a service client built on management API\n",
    "    If you specify print_accounts=True, will log out account structure from account_summary object\n",
    "    \"\"\"\n",
    "    account_summary = management_client.management().accountSummaries().list().execute()\n",
    "    \n",
    "    if print_accounts:\n",
    "        print_accounts(account_summary)\n",
    "    \n",
    "    return account_summary\n",
    "\n",
    "def get_view_ids(account_summary, account_name=None, prop_name=None):\n",
    "# At some point make this searchable if user already knows account/prop name/id \n",
    "    view_ids = []    \n",
    "    for account in account_summary.get('items'):\n",
    "        for prop in account.get('webProperties'):\n",
    "            for view in prop.get('profiles'):\n",
    "                view_ids.append({\"view_name\": f\"{account.get('name')} > {prop.get('name')} > {view.get('name')}\",\n",
    "                                 \"view_id\": view.get('id')})\n",
    "\n",
    "    return view_ids\n",
    "\n",
    "def get_segments(management_client, print_segments=None):\n",
    "    segments = management_client.management().segments().list().execute()\n",
    "    \n",
    "    if print_segments:\n",
    "        print_segment_names(segments)\n",
    "    \n",
    "    return segments\n",
    "\n",
    "def print_segment_names(segments):\n",
    "    for segment in segments.get('items'):\n",
    "        print(f\"{segment.get('name')} = {segment.get('segmentId')}\")\n",
    "\n",
    "def get_segment_ids(segment_name, segments):\n",
    "    segment_ids = []\n",
    "    for segment in segments.get('items'):\n",
    "        if segment.get('name') == segment_name:\n",
    "            segment_ids.append(segment.get('segmentId'))\n",
    "\n",
    "    return segment_ids\n",
    "        \n",
    "def print_segment_def(segments, segment_id=None, segment_name=None):\n",
    "    \n",
    "    if segment_id:\n",
    "        for segment in segments.get('items'):\n",
    "            if segment.get('segmentId') == segment_id:\n",
    "                print(f\"{segment.get('name')}, {segment.get('segmentId')} = {segment.get('definition')}\")\n",
    "    \n",
    "    elif segment_name:\n",
    "        for segment in segments.get('items'):\n",
    "            if segment.get('name') == segment_name:\n",
    "                print(f\"{segment.get('name')}, {segment.get('segmentId')} = {segment.get('definition')}\")\n",
    "\n",
    "# Reporting API functions\n",
    "def build_request_parameters(view_id, start_date, end_date, sampling_level=None, segment=None, cohorts=None):\n",
    "    # Will need to update this once we get around to adding cohorts, and advanced segments etc.\n",
    "    request_parameters = {'dateRanges': [{'startDate': start_date,\n",
    "                                          'endDate': end_date}],\n",
    "                          'viewId': view_id}\n",
    "    \n",
    "    if sampling_level:\n",
    "        request_parameters.update({\"samplingLevel\": sampling_level})\n",
    "    \n",
    "    # This works for one segment, but will require its own function for multiple\n",
    "    elif segment:\n",
    "        request_parameters.update({\"segments\": [\n",
    "            {\"segmentId\": segment}\n",
    "        ]})\n",
    "        \n",
    "    return request_parameters\n",
    "\n",
    "def build_request_body(data_requests):\n",
    "    \n",
    "    request_body = {'reportRequests': []}\n",
    "    for request in data_requests:\n",
    "        \n",
    "        formatted_request = {'metrics': [],\n",
    "                            'dimensions': []}\n",
    "        \n",
    "        for metric in request.get('metrics'):\n",
    "            formatted_request['metrics'].append({'expression': 'ga:'+ metric})\n",
    "        \n",
    "        for dimension in request.get('dimensions'):\n",
    "            formatted_request['dimensions'].append({'name': 'ga:'+ dimension})\n",
    "            \n",
    "        request_body['reportRequests'].append(formatted_request)\n",
    "    \n",
    "    return request_body\n",
    "\n",
    "def get_analytics_data(reporting_client, request_parameters, request_body):\n",
    "\n",
    "    for request in request_body['reportRequests']:\n",
    "        request.update(request_parameters)\n",
    "\n",
    "    response_data = reporting_client.reports().batchGet(\n",
    "        body=request_body\n",
    "        ).execute()\n",
    "\n",
    "    return response_data\n",
    "\n",
    "def response_to_dataframe(response_data):\n",
    "    \n",
    "    data_frames = []\n",
    "    \n",
    "    # Yank out the meta data for each report\n",
    "    for report in response_data.get('reports', []):\n",
    "        headers = report.get('columnHeader', {})\n",
    "        dimension_headers = headers.get('dimensions', [])\n",
    "        metric_details = headers.get('metricHeader', {}).get('metricHeaderEntries', [])\n",
    "        \n",
    "        # Run through to grab metric headers\n",
    "        metric_headers = []\n",
    "        for metric in metric_details:\n",
    "            metric_headers.append(metric.get('name'))\n",
    "        \n",
    "        # Pull dimension headers and metric headers together\n",
    "        column_headers = tuple(dimension_headers + metric_headers)\n",
    "        \n",
    "        # For each report, yank out the actual data values\n",
    "        rows_list = []\n",
    "        for row in report.get('data').get('rows'):\n",
    "            \n",
    "            # Creates a tuple for each row of raw data\n",
    "            row_data = []\n",
    "            for dim_value in row.get('dimensions'):\n",
    "                row_data.append(dim_value)\n",
    "\n",
    "            for metric_value in row.get('metrics')[0].get('values'):\n",
    "                row_data.append(metric_value)\n",
    "\n",
    "            rows_list.append(tuple(row_data))\n",
    "\n",
    "        # Build a data frame out of the data and append to list for multiple reports\n",
    "        df = pd.DataFrame(rows_list, columns=column_headers)\n",
    "        data_frames.append(df)\n",
    "    \n",
    "    return data_frames\n",
    "\n",
    "def remove_ga_prefix(string):\n",
    "    result = string.split(':')[1]\n",
    "    return result\n",
    "\n",
    "def clean_strings(strings, operations):\n",
    "    results = []\n",
    "    for string in strings:\n",
    "        for operation in clean_operations:\n",
    "            string = operation(string)\n",
    "        results.append(string)\n",
    "    return results"
   ]
  },
  {
   "cell_type": "code",
   "execution_count": 3,
   "metadata": {
    "collapsed": true
   },
   "outputs": [],
   "source": [
    "scopes = ['https://www.googleapis.com/auth/analytics.readonly','https://www.googleapis.com/auth/analytics.edit']\n",
    "service_credentials_file = 'client_secrets.json'"
   ]
  },
  {
   "cell_type": "code",
   "execution_count": 54,
   "metadata": {
    "scrolled": true
   },
   "outputs": [],
   "source": [
    "management_client = get_service_client(scopes, 'analytics', 'v3', service_credentials_file)\n",
    "account_summary = get_account_summary(management_client, print_accounts=False)\n",
    "view_ids = get_view_ids(account_summary)\n",
    "segments = get_segments(management_client, print_segments=False)\n",
    "direct_segment_id = get_segment_ids('Direct Traffic', segments)"
   ]
  },
  {
   "cell_type": "code",
   "execution_count": 58,
   "metadata": {
    "collapsed": true
   },
   "outputs": [],
   "source": [
    "view_id = view_ids[3].get('view_id')\n",
    "start_date = '28daysAgo'\n",
    "end_date = 'today'\n",
    "segment = direct_segment_id[0]\n",
    "\n",
    "data_requests = [\n",
    "    {'metrics': ['sessions', 'pageviews'],\n",
    "     'dimensions': ['country', 'browser']},\n",
    "    {'metrics': ['sessions', 'pageviews', 'bounces'],\n",
    "     'dimensions': ['fullReferrer', 'country', 'browser']}]\n",
    "\n",
    "clean_operations = [str.strip, remove_ga_prefix, str.title]"
   ]
  },
  {
   "cell_type": "code",
   "execution_count": 62,
   "metadata": {},
   "outputs": [
    {
     "data": {
      "text/plain": [
       "'gaid::-7'"
      ]
     },
     "execution_count": 62,
     "metadata": {},
     "output_type": "execute_result"
    }
   ],
   "source": [
    "segment"
   ]
  },
  {
   "cell_type": "code",
   "execution_count": 61,
   "metadata": {},
   "outputs": [
    {
     "data": {
      "text/plain": [
       "{'dateRanges': [{'endDate': 'today', 'startDate': '28daysAgo'}],\n",
       " 'segments': [{'segmentId': 'gaid::-7'}],\n",
       " 'viewId': '95100800'}"
      ]
     },
     "execution_count": 61,
     "metadata": {},
     "output_type": "execute_result"
    }
   ],
   "source": [
    "request_parameters"
   ]
  },
  {
   "cell_type": "code",
   "execution_count": 60,
   "metadata": {},
   "outputs": [
    {
     "ename": "HttpError",
     "evalue": "<HttpError 400 when requesting https://analyticsreporting.googleapis.com/v4/reports:batchGet?alt=json returned \"Requests with segments must have ga:segment dimension.\">",
     "output_type": "error",
     "traceback": [
      "\u001b[1;31m---------------------------------------------------------------------------\u001b[0m",
      "\u001b[1;31mHttpError\u001b[0m                                 Traceback (most recent call last)",
      "\u001b[1;32m<ipython-input-60-507f4d52c685>\u001b[0m in \u001b[0;36m<module>\u001b[1;34m()\u001b[0m\n\u001b[0;32m      2\u001b[0m \u001b[0mrequest_body\u001b[0m \u001b[1;33m=\u001b[0m \u001b[0mbuild_request_body\u001b[0m\u001b[1;33m(\u001b[0m\u001b[0mdata_requests\u001b[0m\u001b[1;33m)\u001b[0m\u001b[1;33m\u001b[0m\u001b[0m\n\u001b[0;32m      3\u001b[0m \u001b[0mrequest_parameters\u001b[0m \u001b[1;33m=\u001b[0m \u001b[0mbuild_request_parameters\u001b[0m\u001b[1;33m(\u001b[0m\u001b[0mview_id\u001b[0m\u001b[1;33m,\u001b[0m \u001b[0mstart_date\u001b[0m\u001b[1;33m,\u001b[0m \u001b[0mend_date\u001b[0m\u001b[1;33m,\u001b[0m \u001b[0msegment\u001b[0m\u001b[1;33m=\u001b[0m\u001b[0msegment\u001b[0m\u001b[1;33m)\u001b[0m\u001b[1;33m\u001b[0m\u001b[0m\n\u001b[1;32m----> 4\u001b[1;33m \u001b[0mresponse_data\u001b[0m \u001b[1;33m=\u001b[0m \u001b[0mget_analytics_data\u001b[0m\u001b[1;33m(\u001b[0m\u001b[0mreporting_client\u001b[0m\u001b[1;33m,\u001b[0m \u001b[0mrequest_parameters\u001b[0m\u001b[1;33m,\u001b[0m \u001b[0mrequest_body\u001b[0m\u001b[1;33m)\u001b[0m\u001b[1;33m\u001b[0m\u001b[0m\n\u001b[0m\u001b[0;32m      5\u001b[0m \u001b[0manalytics_df\u001b[0m \u001b[1;33m=\u001b[0m \u001b[0mresponse_to_dataframe\u001b[0m\u001b[1;33m(\u001b[0m\u001b[0mresponse_data\u001b[0m\u001b[1;33m)\u001b[0m\u001b[1;33m\u001b[0m\u001b[0m\n\u001b[0;32m      6\u001b[0m \u001b[1;33m\u001b[0m\u001b[0m\n",
      "\u001b[1;32m<ipython-input-59-a273936d1299>\u001b[0m in \u001b[0;36mget_analytics_data\u001b[1;34m(reporting_client, request_parameters, request_body)\u001b[0m\n\u001b[0;32m    120\u001b[0m \u001b[1;33m\u001b[0m\u001b[0m\n\u001b[0;32m    121\u001b[0m     response_data = reporting_client.reports().batchGet(\n\u001b[1;32m--> 122\u001b[1;33m         \u001b[0mbody\u001b[0m\u001b[1;33m=\u001b[0m\u001b[0mrequest_body\u001b[0m\u001b[1;33m\u001b[0m\u001b[0m\n\u001b[0m\u001b[0;32m    123\u001b[0m         ).execute()\n\u001b[0;32m    124\u001b[0m \u001b[1;33m\u001b[0m\u001b[0m\n",
      "\u001b[1;32mC:\\ProgramData\\Anaconda3\\lib\\site-packages\\googleapiclient\\_helpers.py\u001b[0m in \u001b[0;36mpositional_wrapper\u001b[1;34m(*args, **kwargs)\u001b[0m\n\u001b[0;32m    128\u001b[0m                 \u001b[1;32melif\u001b[0m \u001b[0mpositional_parameters_enforcement\u001b[0m \u001b[1;33m==\u001b[0m \u001b[0mPOSITIONAL_WARNING\u001b[0m\u001b[1;33m:\u001b[0m\u001b[1;33m\u001b[0m\u001b[0m\n\u001b[0;32m    129\u001b[0m                     \u001b[0mlogger\u001b[0m\u001b[1;33m.\u001b[0m\u001b[0mwarning\u001b[0m\u001b[1;33m(\u001b[0m\u001b[0mmessage\u001b[0m\u001b[1;33m)\u001b[0m\u001b[1;33m\u001b[0m\u001b[0m\n\u001b[1;32m--> 130\u001b[1;33m             \u001b[1;32mreturn\u001b[0m \u001b[0mwrapped\u001b[0m\u001b[1;33m(\u001b[0m\u001b[1;33m*\u001b[0m\u001b[0margs\u001b[0m\u001b[1;33m,\u001b[0m \u001b[1;33m**\u001b[0m\u001b[0mkwargs\u001b[0m\u001b[1;33m)\u001b[0m\u001b[1;33m\u001b[0m\u001b[0m\n\u001b[0m\u001b[0;32m    131\u001b[0m         \u001b[1;32mreturn\u001b[0m \u001b[0mpositional_wrapper\u001b[0m\u001b[1;33m\u001b[0m\u001b[0m\n\u001b[0;32m    132\u001b[0m \u001b[1;33m\u001b[0m\u001b[0m\n",
      "\u001b[1;32mC:\\ProgramData\\Anaconda3\\lib\\site-packages\\googleapiclient\\http.py\u001b[0m in \u001b[0;36mexecute\u001b[1;34m(self, http, num_retries)\u001b[0m\n\u001b[0;32m    838\u001b[0m       \u001b[0mcallback\u001b[0m\u001b[1;33m(\u001b[0m\u001b[0mresp\u001b[0m\u001b[1;33m)\u001b[0m\u001b[1;33m\u001b[0m\u001b[0m\n\u001b[0;32m    839\u001b[0m     \u001b[1;32mif\u001b[0m \u001b[0mresp\u001b[0m\u001b[1;33m.\u001b[0m\u001b[0mstatus\u001b[0m \u001b[1;33m>=\u001b[0m \u001b[1;36m300\u001b[0m\u001b[1;33m:\u001b[0m\u001b[1;33m\u001b[0m\u001b[0m\n\u001b[1;32m--> 840\u001b[1;33m       \u001b[1;32mraise\u001b[0m \u001b[0mHttpError\u001b[0m\u001b[1;33m(\u001b[0m\u001b[0mresp\u001b[0m\u001b[1;33m,\u001b[0m \u001b[0mcontent\u001b[0m\u001b[1;33m,\u001b[0m \u001b[0muri\u001b[0m\u001b[1;33m=\u001b[0m\u001b[0mself\u001b[0m\u001b[1;33m.\u001b[0m\u001b[0muri\u001b[0m\u001b[1;33m)\u001b[0m\u001b[1;33m\u001b[0m\u001b[0m\n\u001b[0m\u001b[0;32m    841\u001b[0m     \u001b[1;32mreturn\u001b[0m \u001b[0mself\u001b[0m\u001b[1;33m.\u001b[0m\u001b[0mpostproc\u001b[0m\u001b[1;33m(\u001b[0m\u001b[0mresp\u001b[0m\u001b[1;33m,\u001b[0m \u001b[0mcontent\u001b[0m\u001b[1;33m)\u001b[0m\u001b[1;33m\u001b[0m\u001b[0m\n\u001b[0;32m    842\u001b[0m \u001b[1;33m\u001b[0m\u001b[0m\n",
      "\u001b[1;31mHttpError\u001b[0m: <HttpError 400 when requesting https://analyticsreporting.googleapis.com/v4/reports:batchGet?alt=json returned \"Requests with segments must have ga:segment dimension.\">"
     ]
    }
   ],
   "source": [
    "reporting_client = get_service_client(scopes, 'analyticsreporting', 'v4', service_credentials_file)\n",
    "request_body = build_request_body(data_requests)\n",
    "request_parameters = build_request_parameters(view_id, start_date, end_date, segment=segment)\n",
    "response_data = get_analytics_data(reporting_client, request_parameters, request_body)\n",
    "analytics_df = response_to_dataframe(response_data)\n",
    "\n",
    "for df in analytics_df:\n",
    "    df.columns = clean_strings(df.columns, clean_operations)"
   ]
  },
  {
   "cell_type": "code",
   "execution_count": null,
   "metadata": {
    "collapsed": true
   },
   "outputs": [],
   "source": [
    "analytics_df = response_to_dataframe(response_data)\n",
    "\n",
    "for df in analytics_df:\n",
    "    df.columns = clean_strings(df.columns, clean_operations)"
   ]
  },
  {
   "cell_type": "code",
   "execution_count": null,
   "metadata": {},
   "outputs": [],
   "source": [
    "analytics_df[1]"
   ]
  }
 ],
 "metadata": {
  "kernelspec": {
   "display_name": "Python 3",
   "language": "python",
   "name": "python3"
  },
  "language_info": {
   "codemirror_mode": {
    "name": "ipython",
    "version": 3
   },
   "file_extension": ".py",
   "mimetype": "text/x-python",
   "name": "python",
   "nbconvert_exporter": "python",
   "pygments_lexer": "ipython3",
   "version": "3.6.3"
  }
 },
 "nbformat": 4,
 "nbformat_minor": 2
}
