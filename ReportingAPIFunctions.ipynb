{
 "cells": [
  {
   "cell_type": "code",
   "execution_count": 1,
   "metadata": {
    "collapsed": true
   },
   "outputs": [],
   "source": [
    "from oauth2client.service_account import ServiceAccountCredentials\n",
    "from googleapiclient.discovery import build\n",
    "import pprint\n",
    "import pandas as pd"
   ]
  },
  {
   "cell_type": "code",
   "execution_count": 2,
   "metadata": {},
   "outputs": [],
   "source": [
    "# To do:\n",
    "# Need to grab those 'what properties and views do i have access to functions\n",
    "# Need to build a 'this can't change in a report' function (view, date, segment, etc.)\n",
    "# Need to build a build_request body function (this is partially happening in the get the data function)\n",
    "# And related, need to build a request list building\n",
    "\n",
    "\n",
    "def get_service_client(scopes, api_name, api_version, service_key_file=None, credentials=None):\n",
    "    \n",
    "    if credentials:\n",
    "        service_client = build(api_name, api_version, credentials=credentials)\n",
    "    \n",
    "    else:\n",
    "        credentials = ServiceAccountCredentials.from_json_keyfile_name(service_key_file, scopes=scopes)\n",
    "        service_client = build(api_name, api_version, credentials=credentials)\n",
    "    \n",
    "    return service_client\n",
    "\n",
    "def get_analytics_data(view_id, date_range, reporting_client, request_body):\n",
    "\n",
    "    for request in request_body['reportRequests']:\n",
    "        request.update({'viewId': view_id})\n",
    "        request.update({'dateRanges': [date_range]})\n",
    "\n",
    "    data_output = reporting_client.reports().batchGet(\n",
    "        body=request_body\n",
    "        ).execute()\n",
    "\n",
    "    return data_output"
   ]
  },
  {
   "cell_type": "code",
   "execution_count": 3,
   "metadata": {},
   "outputs": [],
   "source": [
    "scopes = ['https://www.googleapis.com/auth/analytics.readonly','https://www.googleapis.com/auth/analytics.edit']\n",
    "service_credentials_file = 'client_secrets.json'\n",
    "api_name = 'analyticsreporting'\n",
    "api_version = 'v4'\n",
    "\n",
    "reporting_client = get_service_client(scopes, api_name, api_version, service_credentials_file)"
   ]
  },
  {
   "cell_type": "code",
   "execution_count": 4,
   "metadata": {},
   "outputs": [],
   "source": [
    "view_id = '95100800'\n",
    "date_range = {'startDate': '28daysAgo', 'endDate': 'today'}\n",
    "# So it is two in the request body\n",
    "request_body = {\n",
    "        'reportRequests': [\n",
    "            {\n",
    "              'metrics': [{'expression': 'ga:sessions'}, {'expression': 'ga:pageviews'}],\n",
    "              'dimensions': [{'name': 'ga:country'},{'name': 'ga:browser'}]\n",
    "            }]\n",
    "        }\n",
    "#             {\n",
    "#               'metrics': [{'expression': 'ga:sessions'}],\n",
    "#               'dimensions': [{'name': 'ga:browser'}]\n",
    "#             }]\n",
    "#     }"
   ]
  },
  {
   "cell_type": "code",
   "execution_count": 5,
   "metadata": {},
   "outputs": [
    {
     "data": {
      "text/plain": [
       "{'reports': [{'columnHeader': {'dimensions': ['ga:country', 'ga:browser'],\n",
       "    'metricHeader': {'metricHeaderEntries': [{'name': 'ga:sessions',\n",
       "       'type': 'INTEGER'},\n",
       "      {'name': 'ga:pageviews', 'type': 'INTEGER'}]}},\n",
       "   'data': {'maximums': [{'values': ['4', '10']}],\n",
       "    'minimums': [{'values': ['1', '1']}],\n",
       "    'rowCount': 5,\n",
       "    'rows': [{'dimensions': ['Brazil', 'Chrome'],\n",
       "      'metrics': [{'values': ['1', '1']}]},\n",
       "     {'dimensions': ['Germany', 'Internet Explorer'],\n",
       "      'metrics': [{'values': ['1', '1']}]},\n",
       "     {'dimensions': ['Italy', 'Safari'], 'metrics': [{'values': ['1', '1']}]},\n",
       "     {'dimensions': ['Philippines', 'Chrome'],\n",
       "      'metrics': [{'values': ['1', '1']}]},\n",
       "     {'dimensions': ['United States', 'Chrome'],\n",
       "      'metrics': [{'values': ['4', '10']}]}],\n",
       "    'totals': [{'values': ['8', '14']}]}}]}"
      ]
     },
     "execution_count": 5,
     "metadata": {},
     "output_type": "execute_result"
    }
   ],
   "source": [
    "report_output = get_analytics_data(view_id, date_range, reporting_client, request_body)\n",
    "report_output"
   ]
  },
  {
   "cell_type": "code",
   "execution_count": 6,
   "metadata": {},
   "outputs": [
    {
     "name": "stdout",
     "output_type": "stream",
     "text": [
      "{'reports': [{'columnHeader': {'dimensions': ['ga:country', 'ga:browser'],\n",
      "                               'metricHeader': {'metricHeaderEntries': [{'name': 'ga:sessions',\n",
      "                                                                         'type': 'INTEGER'},\n",
      "                                                                        {'name': 'ga:pageviews',\n",
      "                                                                         'type': 'INTEGER'}]}},\n",
      "              'data': {'maximums': [{'values': ['4', '10']}],\n",
      "                       'minimums': [{'values': ['1', '1']}],\n",
      "                       'rowCount': 5,\n",
      "                       'rows': [{'dimensions': ['Brazil', 'Chrome'],\n",
      "                                 'metrics': [{'values': ['1', '1']}]},\n",
      "                                {'dimensions': ['Germany', 'Internet Explorer'],\n",
      "                                 'metrics': [{'values': ['1', '1']}]},\n",
      "                                {'dimensions': ['Italy', 'Safari'],\n",
      "                                 'metrics': [{'values': ['1', '1']}]},\n",
      "                                {'dimensions': ['Philippines', 'Chrome'],\n",
      "                                 'metrics': [{'values': ['1', '1']}]},\n",
      "                                {'dimensions': ['United States', 'Chrome'],\n",
      "                                 'metrics': [{'values': ['4', '10']}]}],\n",
      "                       'totals': [{'values': ['8', '14']}]}}]}\n"
     ]
    }
   ],
   "source": [
    "pp = pprint.PrettyPrinter()\n",
    "\n",
    "pp.pprint(report_output)"
   ]
  },
  {
   "cell_type": "code",
   "execution_count": null,
   "metadata": {
    "collapsed": true
   },
   "outputs": [],
   "source": [
    "def report_to_df(report_output):\n",
    "#     Iterating two collections in parallel, use zip function"
   ]
  },
  {
   "cell_type": "code",
   "execution_count": null,
   "metadata": {
    "collapsed": true
   },
   "outputs": [],
   "source": [
    "type(report_output)"
   ]
  },
  {
   "cell_type": "code",
   "execution_count": null,
   "metadata": {
    "collapsed": true
   },
   "outputs": [],
   "source": [
    "report_output['reports']"
   ]
  },
  {
   "cell_type": "code",
   "execution_count": null,
   "metadata": {
    "collapsed": true
   },
   "outputs": [],
   "source": [
    "def print_response(response):\n",
    "  \n",
    "  for report in response.get('reports', []):\n",
    "    columnHeader = report.get('columnHeader', {})\n",
    "    dimensionHeaders = columnHeader.get('dimensions', [])\n",
    "    metricHeaders = columnHeader.get('metricHeader', {}).get('metricHeaderEntries', [])\n",
    "\n",
    "    for row in report.get('data', {}).get('rows', []):\n",
    "        dimensions = row.get('dimensions', [])\n",
    "        dateRangeValues = row.get('metrics', [])\n",
    "        \n",
    "        for header, dimension in zip(dimensionHeaders, dimensions):\n",
    "            print(header + ': ' + dimension)\n",
    "        \n",
    "        for i, values in enumerate(dateRangeValues):\n",
    "            print('Date range: ' + str(i))\n",
    "            \n",
    "            for metricHeader, value in zip(metricHeaders, values.get('values')):\n",
    "                print(metricHeader.get('name') + ': ' + value)\n",
    "\n"
   ]
  },
  {
   "cell_type": "code",
   "execution_count": null,
   "metadata": {
    "collapsed": true
   },
   "outputs": [],
   "source": [
    "print_response(report_output)"
   ]
  },
  {
   "cell_type": "code",
   "execution_count": null,
   "metadata": {
    "collapsed": true
   },
   "outputs": [],
   "source": [
    "\n",
    "#Parse the response of API\n",
    "def parse_response(report):\n",
    "\n",
    "    \"\"\"Parses and prints the Analytics Reporting API V4 response\"\"\"\n",
    "    #Initialize results, in list format because two dataframes might return\n",
    "    result_list = []\n",
    "\n",
    "    #Initialize empty data container for the two dateranges (if there are two that is)\n",
    "    data_csv = []\n",
    "    data_csv2 = []\n",
    "\n",
    "    #Initialize header rows\n",
    "    header_row = []\n",
    "\n",
    "    #Get column headers, metric headers, and dimension headers.\n",
    "    columnHeader = report.get('columnHeader', {})\n",
    "    metricHeaders = columnHeader.get('metricHeader', {}).get('metricHeaderEntries', [])\n",
    "    dimensionHeaders = columnHeader.get('dimensions', [])\n",
    "\n",
    "    #Combine all of those headers into the header_row, which is in a list format\n",
    "    for dheader in dimensionHeaders:\n",
    "        header_row.append(dheader)\n",
    "    for mheader in metricHeaders:\n",
    "        header_row.append(mheader['name'])\n",
    "\n",
    "    #Get data from each of the rows, and append them into a list\n",
    "    rows = report.get('data', {}).get('rows', [])\n",
    "    for row in rows:\n",
    "        row_temp = []\n",
    "        dimensions = row.get('dimensions', [])\n",
    "        metrics = row.get('metrics', [])\n",
    "        for d in dimensions:\n",
    "            row_temp.append(d)\n",
    "        for m in metrics[0]['values']:\n",
    "            row_temp.append(m)\n",
    "            data_csv.append(row_temp)\n",
    "\n",
    "        #In case of a second date range, do the same thing for the second request\n",
    "        if len(metrics) == 2:\n",
    "            row_temp2 = []\n",
    "            for d in dimensions:\n",
    "                row_temp2.append(d)\n",
    "            for m in metrics[1]['values']:\n",
    "                row_temp2.append(m)\n",
    "            data_csv2.append(row_temp2)\n",
    "\n",
    "    #Putting those list formats into pandas dataframe, and append them into the final result\n",
    "    result_df = pd.DataFrame(data_csv, columns=header_row)\n",
    "    result_list.append(result_df)\n",
    "    if data_csv2 != []:\n",
    "        result_list.append(pandas.DataFrame(data_csv2, columns=header_row))\n",
    "\n",
    "    return result_list"
   ]
  },
  {
   "cell_type": "code",
   "execution_count": null,
   "metadata": {
    "collapsed": true
   },
   "outputs": [],
   "source": [
    "result = parse_response(report_output)"
   ]
  },
  {
   "cell_type": "code",
   "execution_count": null,
   "metadata": {
    "collapsed": true
   },
   "outputs": [],
   "source": [
    "result"
   ]
  }
 ],
 "metadata": {
  "kernelspec": {
   "display_name": "Python 3",
   "language": "python",
   "name": "python3"
  },
  "language_info": {
   "codemirror_mode": {
    "name": "ipython",
    "version": 3
   },
   "file_extension": ".py",
   "mimetype": "text/x-python",
   "name": "python",
   "nbconvert_exporter": "python",
   "pygments_lexer": "ipython3",
   "version": "3.6.3"
  }
 },
 "nbformat": 4,
 "nbformat_minor": 2
}
