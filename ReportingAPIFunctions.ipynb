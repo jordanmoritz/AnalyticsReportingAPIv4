{
 "cells": [
  {
   "cell_type": "code",
   "execution_count": 1,
   "metadata": {
    "collapsed": true
   },
   "outputs": [],
   "source": [
    "from oauth2client.service_account import ServiceAccountCredentials\n",
    "from googleapiclient.discovery import build\n",
    "import pandas as pd"
   ]
  },
  {
   "cell_type": "code",
   "execution_count": 10,
   "metadata": {
    "collapsed": true
   },
   "outputs": [],
   "source": [
    "# To do:\n",
    "# Need to grab those 'what properties and views do i have access to functions\n",
    "# Need to build a 'this can't change in a report' function (view, date, segment, etc.)\n",
    "# And related, need to build a request list building\n",
    "# Augment/build function to optionally return the max/min value thing\n",
    "# Create clean/prep function that runs in output_to_df function that does things like standardize dimension names, etc.\n",
    "\n",
    "def get_service_client(scopes, api_name, api_version, service_key_file=None, credentials=None):\n",
    "    \n",
    "    if credentials:\n",
    "        service_client = build(api_name, api_version, credentials=credentials)\n",
    "    \n",
    "    else:\n",
    "        credentials = ServiceAccountCredentials.from_json_keyfile_name(service_key_file, scopes=scopes)\n",
    "        service_client = build(api_name, api_version, credentials=credentials)\n",
    "    \n",
    "    return service_client\n",
    "\n",
    "def get_analytics_data(view_id, date_range, reporting_client, request_body):\n",
    "\n",
    "    for request in request_body['reportRequests']:\n",
    "        request.update({'viewId': view_id})\n",
    "        request.update({'dateRanges': [date_range]})\n",
    "\n",
    "    response_data = reporting_client.reports().batchGet(\n",
    "        body=request_body\n",
    "        ).execute()\n",
    "\n",
    "    return response_data\n",
    "\n",
    "def response_to_dataframe(response_data):\n",
    "    \n",
    "    data_frames = []\n",
    "    \n",
    "    # Yank out the meta data for each report\n",
    "    for report in response_data.get('reports', []):\n",
    "        headers = report.get('columnHeader', {})\n",
    "        dimension_headers = headers.get('dimensions', [])\n",
    "        metric_details = headers.get('metricHeader', {}).get('metricHeaderEntries', [])\n",
    "        \n",
    "        # Run through to grab metric headers\n",
    "        metric_headers = []\n",
    "        for metric in metric_details:\n",
    "            metric_headers.append(metric.get('name'))\n",
    "        \n",
    "        # Pull dimension headers and metric headers together\n",
    "        column_headers = tuple(dimension_headers + metric_headers)\n",
    "        \n",
    "        # For each report, yank out the actual data values\n",
    "        rows_list = []\n",
    "        for row in report.get('data').get('rows'):\n",
    "            \n",
    "            # Creates a tuple for each row of raw data\n",
    "            row_data = []\n",
    "            for dim_value in row.get('dimensions'):\n",
    "                row_data.append(dim_value)\n",
    "\n",
    "            for metric_value in row.get('metrics')[0].get('values'):\n",
    "                row_data.append(metric_value)\n",
    "\n",
    "            rows_list.append(tuple(row_data))\n",
    "\n",
    "        # Build a data frame out of the data and append to list for multiple reports\n",
    "        df = pd.DataFrame(rows_list, columns=column_headers)\n",
    "        data_frames.append(df)\n",
    "    \n",
    "    return data_frames"
   ]
  },
  {
   "cell_type": "code",
   "execution_count": 3,
   "metadata": {
    "collapsed": true
   },
   "outputs": [],
   "source": [
    "scopes = ['https://www.googleapis.com/auth/analytics.readonly','https://www.googleapis.com/auth/analytics.edit']\n",
    "service_credentials_file = 'client_secrets.json'\n",
    "api_name = 'analyticsreporting'\n",
    "api_version = 'v4'\n",
    "\n",
    "reporting_client = get_service_client(scopes, api_name, api_version, service_credentials_file)"
   ]
  },
  {
   "cell_type": "code",
   "execution_count": 11,
   "metadata": {},
   "outputs": [],
   "source": [
    "def get_analytics_data(view_id, date_range, reporting_client, request_body):\n",
    "\n",
    "    for request in request_body['reportRequests']:\n",
    "        request.update({'viewId': view_id})\n",
    "        request.update({'dateRanges': [date_range]})\n",
    "\n",
    "    response_data = reporting_client.reports().batchGet(\n",
    "        body=request_body\n",
    "        ).execute()\n",
    "\n",
    "    return response_data\n",
    "\n",
    "# Tricky thing is this needs to be packaged so pull multiple requests into a single request body\n",
    "# So how do I structure the parameter inputs\n",
    "# We're going to pass this requests, lists that contain dictionaries with metrics and dimensions\n",
    "def build_request_body(data_requests):\n",
    "    \n",
    "    for request in data_requests:\n",
    "        formatted_request = {\n",
    "            'metrics': [{'expression':''}],\n",
    "        }"
   ]
  },
  {
   "cell_type": "code",
   "execution_count": 60,
   "metadata": {},
   "outputs": [],
   "source": [
    "# Dict comprehension syntax\n",
    "{key: value for (key, value) in iterable}"
   ]
  },
  {
   "cell_type": "code",
   "execution_count": 46,
   "metadata": {},
   "outputs": [
    {
     "name": "stdout",
     "output_type": "stream",
     "text": [
      "sessions\n",
      "pageviews\n"
     ]
    }
   ],
   "source": [
    "type(data_requests[0].get('metrics'))\n",
    "for i in data_requests[0].get('metrics'):\n",
    "    print(i)"
   ]
  },
  {
   "cell_type": "code",
   "execution_count": 61,
   "metadata": {},
   "outputs": [
    {
     "ename": "ValueError",
     "evalue": "dictionary update sequence element #0 has length 12; 2 is required",
     "output_type": "error",
     "traceback": [
      "\u001b[1;31m---------------------------------------------------------------------------\u001b[0m",
      "\u001b[1;31mValueError\u001b[0m                                Traceback (most recent call last)",
      "\u001b[1;32m<ipython-input-61-d03025080363>\u001b[0m in \u001b[0;36m<module>\u001b[1;34m()\u001b[0m\n\u001b[1;32m----> 1\u001b[1;33m \u001b[0musing_zip\u001b[0m \u001b[1;33m=\u001b[0m \u001b[0mdict\u001b[0m\u001b[1;33m(\u001b[0m\u001b[0mzip\u001b[0m\u001b[1;33m(\u001b[0m\u001b[1;33m*\u001b[0m\u001b[1;34m'expressions'\u001b[0m\u001b[1;33m,\u001b[0m \u001b[0mdata_requests\u001b[0m\u001b[1;33m[\u001b[0m\u001b[1;36m0\u001b[0m\u001b[1;33m]\u001b[0m\u001b[1;33m.\u001b[0m\u001b[0mget\u001b[0m\u001b[1;33m(\u001b[0m\u001b[1;34m'metrics'\u001b[0m\u001b[1;33m)\u001b[0m\u001b[1;33m)\u001b[0m\u001b[1;33m)\u001b[0m\u001b[1;33m\u001b[0m\u001b[0m\n\u001b[0m\u001b[0;32m      2\u001b[0m \u001b[0musing_zip\u001b[0m\u001b[1;33m\u001b[0m\u001b[0m\n",
      "\u001b[1;31mValueError\u001b[0m: dictionary update sequence element #0 has length 12; 2 is required"
     ]
    }
   ],
   "source": [
    "using_zip = dict(zip(*'expressions', data_requests[0].get('metrics')))\n",
    "using_zip"
   ]
  },
  {
   "cell_type": "code",
   "execution_count": 58,
   "metadata": {},
   "outputs": [
    {
     "data": {
      "text/plain": [
       "['sessions', 'pageviews']"
      ]
     },
     "execution_count": 58,
     "metadata": {},
     "output_type": "execute_result"
    }
   ],
   "source": [
    "metric_list = [metric for metric in data_requests[0].get('metrics')]\n",
    "metric_list"
   ]
  },
  {
   "cell_type": "code",
   "execution_count": null,
   "metadata": {
    "collapsed": true
   },
   "outputs": [],
   "source": [
    "{k: v for d in (d1, d2) for k, v in d.items()}"
   ]
  },
  {
   "cell_type": "code",
   "execution_count": 63,
   "metadata": {},
   "outputs": [
    {
     "ename": "NameError",
     "evalue": "name 'metric' is not defined",
     "output_type": "error",
     "traceback": [
      "\u001b[1;31m---------------------------------------------------------------------------\u001b[0m",
      "\u001b[1;31mNameError\u001b[0m                                 Traceback (most recent call last)",
      "\u001b[1;32m<ipython-input-63-02195267a2d1>\u001b[0m in \u001b[0;36m<module>\u001b[1;34m()\u001b[0m\n\u001b[1;32m----> 1\u001b[1;33m \u001b[0mnew_dict\u001b[0m \u001b[1;33m=\u001b[0m \u001b[1;33m{\u001b[0m\u001b[1;34m'expression'\u001b[0m\u001b[1;33m:\u001b[0m \u001b[1;34m'ga:'\u001b[0m\u001b[1;33m+\u001b[0m \u001b[0mmetric\u001b[0m \u001b[1;32mfor\u001b[0m \u001b[0mk\u001b[0m\u001b[1;33m,\u001b[0m \u001b[0mv\u001b[0m \u001b[1;32min\u001b[0m \u001b[0mmetric\u001b[0m \u001b[1;32min\u001b[0m \u001b[0mdata_requests\u001b[0m\u001b[1;33m[\u001b[0m\u001b[1;36m0\u001b[0m\u001b[1;33m]\u001b[0m\u001b[1;33m.\u001b[0m\u001b[0mget\u001b[0m\u001b[1;33m(\u001b[0m\u001b[1;34m'metrics'\u001b[0m\u001b[1;33m)\u001b[0m\u001b[1;33m}\u001b[0m\u001b[1;33m\u001b[0m\u001b[0m\n\u001b[0m\u001b[0;32m      2\u001b[0m \u001b[0mnew_dict\u001b[0m\u001b[1;33m\u001b[0m\u001b[0m\n",
      "\u001b[1;31mNameError\u001b[0m: name 'metric' is not defined"
     ]
    }
   ],
   "source": [
    "new_dict = {'expression': 'ga:'+ metric for k, v in metric in data_requests[0].get('metrics')}\n",
    "new_dict"
   ]
  },
  {
   "cell_type": "code",
   "execution_count": 36,
   "metadata": {},
   "outputs": [],
   "source": [
    "dim_dict = {'expression': 'ga:'+ v for k, v in data_requests[0].get('dimensions')}\n",
    "dim_dict"
   ]
  },
  {
   "cell_type": "code",
   "execution_count": 13,
   "metadata": {},
   "outputs": [
    {
     "data": {
      "text/plain": [
       "[{'dimensions': ['country', 'browser'], 'metrics': ['sessions', 'pageviews']},\n",
       " {'dimensions': ['fullReferrer', 'country', 'browser'],\n",
       "  'metrics': ['sessions', 'pageviews', 'bounces']}]"
      ]
     },
     "execution_count": 13,
     "metadata": {},
     "output_type": "execute_result"
    }
   ],
   "source": [
    "data_requests = [\n",
    "    {'metrics': ['sessions', 'pageviews'],\n",
    "     'dimensions': ['country', 'browser']},\n",
    "    {'metrics': ['sessions', 'pageviews', 'bounces'],\n",
    "     'dimensions': ['fullReferrer', 'country', 'browser']}]\n",
    "\n",
    "data_requests"
   ]
  },
  {
   "cell_type": "code",
   "execution_count": 5,
   "metadata": {
    "collapsed": true
   },
   "outputs": [],
   "source": [
    "view_id = '95100800'\n",
    "date_range = {'startDate': '28daysAgo', 'endDate': 'today'}\n",
    "request_body = {\n",
    "        'reportRequests': [\n",
    "            {\n",
    "              'metrics': [{'expression': 'ga:sessions'}, {'expression': 'ga:pageviews'}],\n",
    "              'dimensions': [{'name': 'ga:country'},{'name': 'ga:browser'}]\n",
    "            },\n",
    "            {\n",
    "              'metrics': [{'expression': 'ga:sessions'}],\n",
    "              'dimensions': [{'name': 'ga:browser'}, {'name': 'ga:country'}]\n",
    "            },\n",
    "            {\n",
    "              'metrics': [{'expression': 'ga:sessions'}, {'expression': 'ga:sessions'}, {'expression': 'ga:bounces'}],\n",
    "              'dimensions': [{'name': 'ga:browser'}, {'name': 'ga:country'}, {'name': 'ga:fullReferrer'}]\n",
    "            }]\n",
    "            }\n",
    "\n",
    "response_data = get_analytics_data(view_id, date_range, reporting_client, request_body)"
   ]
  },
  {
   "cell_type": "code",
   "execution_count": 6,
   "metadata": {
    "collapsed": true
   },
   "outputs": [],
   "source": [
    "analytics_df = response_to_dataframe(response_data)"
   ]
  }
 ],
 "metadata": {
  "kernelspec": {
   "display_name": "Python 3",
   "language": "python",
   "name": "python3"
  },
  "language_info": {
   "codemirror_mode": {
    "name": "ipython",
    "version": 3
   },
   "file_extension": ".py",
   "mimetype": "text/x-python",
   "name": "python",
   "nbconvert_exporter": "python",
   "pygments_lexer": "ipython3",
   "version": "3.6.3"
  }
 },
 "nbformat": 4,
 "nbformat_minor": 2
}
