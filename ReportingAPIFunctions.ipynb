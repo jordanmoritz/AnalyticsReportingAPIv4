{
 "cells": [
  {
   "cell_type": "code",
   "execution_count": 1,
   "metadata": {
    "collapsed": true
   },
   "outputs": [],
   "source": [
    "from oauth2client.service_account import ServiceAccountCredentials\n",
    "from googleapiclient.discovery import build\n",
    "import pprint\n",
    "import pandas as pd\n",
    "\n",
    "pp = pprint.PrettyPrinter()"
   ]
  },
  {
   "cell_type": "code",
   "execution_count": 2,
   "metadata": {
    "collapsed": true
   },
   "outputs": [],
   "source": [
    "# To do:\n",
    "# Build a get segments and segment IDs within a view function\n",
    "\n",
    "\n",
    "# General functions\n",
    "def get_service_client(scopes, api_name, api_version, service_key_file=None, credentials=None):\n",
    "    \n",
    "    if credentials:\n",
    "        service_client = build(api_name, api_version, credentials=credentials)\n",
    "    \n",
    "    else:\n",
    "        credentials = ServiceAccountCredentials.from_json_keyfile_name(service_key_file, scopes=scopes)\n",
    "        service_client = build(api_name, api_version, credentials=credentials)\n",
    "    \n",
    "    return service_client\n",
    "\n",
    "# Management API functions\n",
    "def print_accounts(account_summary):\n",
    "    for account in account_summary.get('items'):\n",
    "        print('\\nAccount:', account.get('name'))\n",
    "        for prop in account.get('webProperties'):\n",
    "            print('\\tProperty:', prop.get('name'))\n",
    "            for view in prop.get('profiles'):\n",
    "                print('\\t\\tView:', view.get('name'), ' - ', view.get('id'))\n",
    "\n",
    "def get_account_summary(management_client, show_accounts=None):\n",
    "    \"\"\"\n",
    "    Requires that you pass a service client built on management API\n",
    "    If you specify show_accounts=True, will log out account structure from account_summary object\n",
    "    \"\"\"\n",
    "    account_summary = management_client.management().accountSummaries().list().execute()\n",
    "    account_summary.keys()\n",
    "    \n",
    "    if show_accounts:\n",
    "        print_accounts(account_summary)\n",
    "    \n",
    "    return account_summary\n",
    "\n",
    "# Reporting API functions\n",
    "def build_request_parameters(view_id, start_date, end_date, sampling_level=None, segments=None, cohorts=None):\n",
    "    # Will need to update this once we get around to adding segments, etc.\n",
    "    request_parameters = {'dateRanges': [{'startDate': start_date,\n",
    "                                          'endDate': end_date}],\n",
    "                          'viewId': view_id}\n",
    "    \n",
    "    if sampling_level:\n",
    "        request_parameters.update({\"samplingLevel\": sampling_level})\n",
    "\n",
    "    return request_parameters\n",
    "\n",
    "def build_request_body(data_requests):\n",
    "    \n",
    "    request_body = {'reportRequests': []}\n",
    "    for request in data_requests:\n",
    "        \n",
    "        formatted_request = {'metrics': [],\n",
    "                            'dimensions': []}\n",
    "        \n",
    "        for metric in request.get('metrics'):\n",
    "            formatted_request['metrics'].append({'expression': 'ga:'+ metric})\n",
    "        \n",
    "        for dimension in request.get('dimensions'):\n",
    "            formatted_request['dimensions'].append({'name': 'ga:'+ dimension})\n",
    "            \n",
    "        request_body['reportRequests'].append(formatted_request)\n",
    "    \n",
    "    return request_body\n",
    "\n",
    "def get_analytics_data(reporting_client, request_parameters, request_body):\n",
    "\n",
    "    for request in request_body['reportRequests']:\n",
    "        request.update(request_parameters)\n",
    "\n",
    "    response_data = reporting_client.reports().batchGet(\n",
    "        body=request_body\n",
    "        ).execute()\n",
    "\n",
    "    return response_data\n",
    "\n",
    "def response_to_dataframe(response_data):\n",
    "    \n",
    "    data_frames = []\n",
    "    \n",
    "    # Yank out the meta data for each report\n",
    "    for report in response_data.get('reports', []):\n",
    "        headers = report.get('columnHeader', {})\n",
    "        dimension_headers = headers.get('dimensions', [])\n",
    "        metric_details = headers.get('metricHeader', {}).get('metricHeaderEntries', [])\n",
    "        \n",
    "        # Run through to grab metric headers\n",
    "        metric_headers = []\n",
    "        for metric in metric_details:\n",
    "            metric_headers.append(metric.get('name'))\n",
    "        \n",
    "        # Pull dimension headers and metric headers together\n",
    "        column_headers = tuple(dimension_headers + metric_headers)\n",
    "        \n",
    "        # For each report, yank out the actual data values\n",
    "        rows_list = []\n",
    "        for row in report.get('data').get('rows'):\n",
    "            \n",
    "            # Creates a tuple for each row of raw data\n",
    "            row_data = []\n",
    "            for dim_value in row.get('dimensions'):\n",
    "                row_data.append(dim_value)\n",
    "\n",
    "            for metric_value in row.get('metrics')[0].get('values'):\n",
    "                row_data.append(metric_value)\n",
    "\n",
    "            rows_list.append(tuple(row_data))\n",
    "\n",
    "        # Build a data frame out of the data and append to list for multiple reports\n",
    "        df = pd.DataFrame(rows_list, columns=column_headers)\n",
    "        data_frames.append(df)\n",
    "    \n",
    "    return data_frames\n",
    "\n",
    "def remove_ga_prefix(string):\n",
    "    result = string.split(':')[1]\n",
    "    return result\n",
    "\n",
    "def clean_strings(strings, operations):\n",
    "    results = []\n",
    "    for string in strings:\n",
    "        for operation in clean_operations:\n",
    "            string = operation(string)\n",
    "        results.append(string)\n",
    "    return results"
   ]
  },
  {
   "cell_type": "code",
   "execution_count": 3,
   "metadata": {
    "collapsed": true
   },
   "outputs": [],
   "source": [
    "scopes = ['https://www.googleapis.com/auth/analytics.readonly','https://www.googleapis.com/auth/analytics.edit']\n",
    "service_credentials_file = 'client_secrets.json'"
   ]
  },
  {
   "cell_type": "code",
   "execution_count": 7,
   "metadata": {},
   "outputs": [
    {
     "name": "stdout",
     "output_type": "stream",
     "text": [
      "\n",
      "Account: API Test Account\n",
      "\tProperty: API Test Property\n",
      "\t\tView: All Web Site Data  -  170438985\n",
      "\n",
      "Account: jordanmoritz.com\n",
      "\tProperty: apiTest\n",
      "\t\tView: apiTest View  -  167372989\n",
      "\tProperty: apiTest 3rd View\n",
      "\t\tView: All Web Site Data  -  170888352\n",
      "\tProperty: jordanmoritz.com\n",
      "\t\tView: All Web Site Data - Production  -  95100800\n",
      "\n",
      "Account: Third API Test Account\n",
      "\tProperty: API Test Three\n",
      "\t\tView: All Web Site Data  -  170953983\n",
      "\tProperty: API Test Three - Second Prop\n",
      "\t\tView: All Web Site Data  -  171012332\n"
     ]
    }
   ],
   "source": [
    "management_client = get_service_client(scopes, 'analytics', 'v3', service_credentials_file)\n",
    "account_summary = get_account_summary(management_client, show_accounts=True)"
   ]
  },
  {
   "cell_type": "code",
   "execution_count": null,
   "metadata": {
    "collapsed": true
   },
   "outputs": [],
   "source": [
    "def get_view_ids(account_summary):\n",
    "    view_ids = []\n",
    "    for account in account_summary.get('items'):\n",
    "        print('\\nAccount:', account.get('name'))\n",
    "        for prop in account.get('webProperties'):\n",
    "            print('\\tProperty:', prop.get('name'))\n",
    "            for view in prop.get('profiles'):\n",
    "                print('\\t\\tView:', view.get('name'), ' - ', view.get('id'))"
   ]
  },
  {
   "cell_type": "code",
   "execution_count": 16,
   "metadata": {},
   "outputs": [
    {
     "ename": "NameError",
     "evalue": "name 'account' is not defined",
     "output_type": "error",
     "traceback": [
      "\u001b[1;31m---------------------------------------------------------------------------\u001b[0m",
      "\u001b[1;31mNameError\u001b[0m                                 Traceback (most recent call last)",
      "\u001b[1;32m<ipython-input-16-ff31c98430e3>\u001b[0m in \u001b[0;36m<module>\u001b[1;34m()\u001b[0m\n\u001b[1;32m----> 1\u001b[1;33m \u001b[0maccounts\u001b[0m \u001b[1;33m=\u001b[0m \u001b[1;33m[\u001b[0m\u001b[0mprop\u001b[0m\u001b[1;33m.\u001b[0m\u001b[0mget\u001b[0m\u001b[1;33m(\u001b[0m\u001b[1;34m'name'\u001b[0m\u001b[1;33m)\u001b[0m \u001b[1;32mfor\u001b[0m \u001b[0mprop\u001b[0m \u001b[1;32min\u001b[0m \u001b[0maccount\u001b[0m\u001b[1;33m.\u001b[0m\u001b[0mget\u001b[0m\u001b[1;33m(\u001b[0m\u001b[1;34m'webProperties'\u001b[0m\u001b[1;33m)\u001b[0m \u001b[1;32mfor\u001b[0m \u001b[0maccount\u001b[0m \u001b[1;32min\u001b[0m \u001b[0maccount_summary\u001b[0m\u001b[1;33m.\u001b[0m\u001b[0mget\u001b[0m\u001b[1;33m(\u001b[0m\u001b[1;34m'items'\u001b[0m\u001b[1;33m)\u001b[0m\u001b[1;33m]\u001b[0m\u001b[1;33m\u001b[0m\u001b[0m\n\u001b[0m\u001b[0;32m      2\u001b[0m \u001b[0maccounts\u001b[0m\u001b[1;33m\u001b[0m\u001b[0m\n",
      "\u001b[1;31mNameError\u001b[0m: name 'account' is not defined"
     ]
    }
   ],
   "source": [
    "accounts = [prop.get('name') for prop in account.get('webProperties') for account in account_summary.get('items')]\n",
    "accounts"
   ]
  },
  {
   "cell_type": "code",
   "execution_count": 23,
   "metadata": {},
   "outputs": [
    {
     "ename": "NameError",
     "evalue": "name 'account' is not defined",
     "output_type": "error",
     "traceback": [
      "\u001b[1;31m---------------------------------------------------------------------------\u001b[0m",
      "\u001b[1;31mNameError\u001b[0m                                 Traceback (most recent call last)",
      "\u001b[1;32m<ipython-input-23-ff31c98430e3>\u001b[0m in \u001b[0;36m<module>\u001b[1;34m()\u001b[0m\n\u001b[1;32m----> 1\u001b[1;33m \u001b[0maccounts\u001b[0m \u001b[1;33m=\u001b[0m \u001b[1;33m[\u001b[0m\u001b[0mprop\u001b[0m\u001b[1;33m.\u001b[0m\u001b[0mget\u001b[0m\u001b[1;33m(\u001b[0m\u001b[1;34m'name'\u001b[0m\u001b[1;33m)\u001b[0m \u001b[1;32mfor\u001b[0m \u001b[0mprop\u001b[0m \u001b[1;32min\u001b[0m \u001b[0maccount\u001b[0m\u001b[1;33m.\u001b[0m\u001b[0mget\u001b[0m\u001b[1;33m(\u001b[0m\u001b[1;34m'webProperties'\u001b[0m\u001b[1;33m)\u001b[0m \u001b[1;32mfor\u001b[0m \u001b[0maccount\u001b[0m \u001b[1;32min\u001b[0m \u001b[0maccount_summary\u001b[0m\u001b[1;33m.\u001b[0m\u001b[0mget\u001b[0m\u001b[1;33m(\u001b[0m\u001b[1;34m'items'\u001b[0m\u001b[1;33m)\u001b[0m\u001b[1;33m]\u001b[0m\u001b[1;33m\u001b[0m\u001b[0m\n\u001b[0m\u001b[0;32m      2\u001b[0m \u001b[0maccounts\u001b[0m\u001b[1;33m\u001b[0m\u001b[0m\n",
      "\u001b[1;31mNameError\u001b[0m: name 'account' is not defined"
     ]
    }
   ],
   "source": [
    "accounts = [prop.get('name') for prop in account.get('webProperties') for account in account_summary.get('items')]\n",
    "accounts"
   ]
  },
  {
   "cell_type": "code",
   "execution_count": 27,
   "metadata": {},
   "outputs": [
    {
     "name": "stdout",
     "output_type": "stream",
     "text": [
      "1.0\n"
     ]
    },
    {
     "data": {
      "text/plain": [
       "[1.0]"
      ]
     },
     "execution_count": 27,
     "metadata": {},
     "output_type": "execute_result"
    }
   ],
   "source": [
    "#   l a b c d e f\n",
    "#   ↓ ↓ ↓ ↓ ↓ ↓ ↓\n",
    "l = [ [ [ [ [ [ 1 ] ] ] ] ] ]\n",
    "for a in l:\n",
    "    for b in a:\n",
    "        for c in b:\n",
    "            for d in c:\n",
    "                for e in d:\n",
    "                    for f in e:\n",
    "                        print(float(f))\n",
    "\n",
    "[float(f)\n",
    "    for a in l\n",
    "        for b in a\n",
    "            for c in b\n",
    "                for d in c\n",
    "                    for e in d\n",
    "                        for f in e]\n",
    "\n",
    "#Which can be written in single line as\n",
    "[float(f) for a in l for b in a for c in b for d in c for e in d for f in e]\n",
    "\n",
    "# So it goes, inner most thing for second outer most for outermoster, \n",
    "\n",
    "[float(f) for a in l for b in a for c in b for d in c for e in d for f in e]"
   ]
  },
  {
   "cell_type": "code",
   "execution_count": 29,
   "metadata": {},
   "outputs": [
    {
     "data": {
      "text/plain": [
       "[{'id': '114693333',\n",
       "  'kind': 'analytics#accountSummary',\n",
       "  'name': 'API Test Account',\n",
       "  'webProperties': [{'id': 'UA-114693333-1',\n",
       "    'internalWebPropertyId': '170577438',\n",
       "    'kind': 'analytics#webPropertySummary',\n",
       "    'level': 'STANDARD',\n",
       "    'name': 'API Test Property',\n",
       "    'profiles': [{'id': '170438985',\n",
       "      'kind': 'analytics#profileSummary',\n",
       "      'name': 'All Web Site Data',\n",
       "      'type': 'WEB'}],\n",
       "    'websiteUrl': 'https://jordanmoritz.com'}]},\n",
       " {'id': '57614965',\n",
       "  'kind': 'analytics#accountSummary',\n",
       "  'name': 'jordanmoritz.com',\n",
       "  'webProperties': [{'id': 'UA-57614965-2',\n",
       "    'internalWebPropertyId': '167086735',\n",
       "    'kind': 'analytics#webPropertySummary',\n",
       "    'level': 'STANDARD',\n",
       "    'name': 'apiTest',\n",
       "    'profiles': [{'id': '167372989',\n",
       "      'kind': 'analytics#profileSummary',\n",
       "      'name': 'apiTest View',\n",
       "      'type': 'WEB'}],\n",
       "    'websiteUrl': 'https://jordanmoritz.com'},\n",
       "   {'id': 'UA-57614965-3',\n",
       "    'internalWebPropertyId': '171195104',\n",
       "    'kind': 'analytics#webPropertySummary',\n",
       "    'level': 'STANDARD',\n",
       "    'name': 'apiTest 3rd View',\n",
       "    'profiles': [{'id': '170888352',\n",
       "      'kind': 'analytics#profileSummary',\n",
       "      'name': 'All Web Site Data',\n",
       "      'type': 'WEB'}],\n",
       "    'websiteUrl': 'http://jordanmoritz.com'},\n",
       "   {'id': 'UA-57614965-1',\n",
       "    'internalWebPropertyId': '91354397',\n",
       "    'kind': 'analytics#webPropertySummary',\n",
       "    'level': 'STANDARD',\n",
       "    'name': 'jordanmoritz.com',\n",
       "    'profiles': [{'id': '95100800',\n",
       "      'kind': 'analytics#profileSummary',\n",
       "      'name': 'All Web Site Data - Production',\n",
       "      'type': 'WEB'}],\n",
       "    'websiteUrl': 'http://jordanmoritz.com'}]},\n",
       " {'id': '115180719',\n",
       "  'kind': 'analytics#accountSummary',\n",
       "  'name': 'Third API Test Account',\n",
       "  'webProperties': [{'id': 'UA-115180719-1',\n",
       "    'internalWebPropertyId': '171263040',\n",
       "    'kind': 'analytics#webPropertySummary',\n",
       "    'level': 'STANDARD',\n",
       "    'name': 'API Test Three',\n",
       "    'profiles': [{'id': '170953983',\n",
       "      'kind': 'analytics#profileSummary',\n",
       "      'name': 'All Web Site Data',\n",
       "      'type': 'WEB'}],\n",
       "    'websiteUrl': 'http://apitest.com'},\n",
       "   {'id': 'UA-115180719-2',\n",
       "    'internalWebPropertyId': '171341413',\n",
       "    'kind': 'analytics#webPropertySummary',\n",
       "    'level': 'STANDARD',\n",
       "    'name': 'API Test Three - Second Prop',\n",
       "    'profiles': [{'id': '171012332',\n",
       "      'kind': 'analytics#profileSummary',\n",
       "      'name': 'All Web Site Data',\n",
       "      'type': 'WEB'}],\n",
       "    'websiteUrl': 'http://test.com'}]}]"
      ]
     },
     "execution_count": 29,
     "metadata": {},
     "output_type": "execute_result"
    }
   ],
   "source": [
    "account_summary.get('items')"
   ]
  },
  {
   "cell_type": "code",
   "execution_count": null,
   "metadata": {
    "collapsed": true
   },
   "outputs": [],
   "source": [
    "#  Accounts > Props > Views\n",
    "# And we want views\n",
    "\n",
    "# so it's views.name for props in accounts"
   ]
  },
  {
   "cell_type": "code",
   "execution_count": null,
   "metadata": {
    "collapsed": true
   },
   "outputs": [],
   "source": [
    "views = [view.get('name') for prop.get('profiles') in account.get('webProperties') ]"
   ]
  },
  {
   "cell_type": "code",
   "execution_count": 13,
   "metadata": {},
   "outputs": [
    {
     "ename": "NameError",
     "evalue": "name 'prop' is not defined",
     "output_type": "error",
     "traceback": [
      "\u001b[1;31m---------------------------------------------------------------------------\u001b[0m",
      "\u001b[1;31mNameError\u001b[0m                                 Traceback (most recent call last)",
      "\u001b[1;32m<ipython-input-13-39dc13eb8bc8>\u001b[0m in \u001b[0;36m<module>\u001b[1;34m()\u001b[0m\n\u001b[1;32m----> 1\u001b[1;33m \u001b[0mviews\u001b[0m \u001b[1;33m=\u001b[0m \u001b[1;33m[\u001b[0m\u001b[0mview\u001b[0m\u001b[1;33m.\u001b[0m\u001b[0mget\u001b[0m\u001b[1;33m(\u001b[0m\u001b[1;34m'name'\u001b[0m\u001b[1;33m)\u001b[0m \u001b[1;32mfor\u001b[0m \u001b[0mview\u001b[0m \u001b[1;32min\u001b[0m \u001b[0mprop\u001b[0m\u001b[1;33m.\u001b[0m\u001b[0mget\u001b[0m\u001b[1;33m(\u001b[0m\u001b[1;34m'profiles'\u001b[0m\u001b[1;33m)\u001b[0m \u001b[1;32mfor\u001b[0m \u001b[0mprop\u001b[0m \u001b[1;32min\u001b[0m \u001b[0maccount\u001b[0m\u001b[1;33m.\u001b[0m\u001b[0mget\u001b[0m\u001b[1;33m(\u001b[0m\u001b[1;34m'webProperties'\u001b[0m\u001b[1;33m)\u001b[0m \u001b[1;32mfor\u001b[0m \u001b[0maccount\u001b[0m \u001b[1;32min\u001b[0m \u001b[0maccount_summary\u001b[0m\u001b[1;33m.\u001b[0m\u001b[0mget\u001b[0m\u001b[1;33m(\u001b[0m\u001b[1;34m'items'\u001b[0m\u001b[1;33m)\u001b[0m\u001b[1;33m]\u001b[0m\u001b[1;33m\u001b[0m\u001b[0m\n\u001b[0m\u001b[0;32m      2\u001b[0m \u001b[0mviews\u001b[0m\u001b[1;33m\u001b[0m\u001b[0m\n",
      "\u001b[1;31mNameError\u001b[0m: name 'prop' is not defined"
     ]
    }
   ],
   "source": [
    "views = [view.get('name') for view in prop.get('profiles') for prop in account.get('webProperties') for account in account_summary.get('items')]\n",
    "views"
   ]
  },
  {
   "cell_type": "code",
   "execution_count": null,
   "metadata": {
    "collapsed": true
   },
   "outputs": [],
   "source": [
    "view_id = '95100800'\n",
    "start_date = '28daysAgo'\n",
    "end_date = 'today'\n",
    "\n",
    "data_requests = [\n",
    "    {'metrics': ['sessions', 'pageviews'],\n",
    "     'dimensions': ['country', 'browser']},\n",
    "    {'metrics': ['sessions', 'pageviews', 'bounces'],\n",
    "     'dimensions': ['fullReferrer', 'country', 'browser']}]\n",
    "\n",
    "clean_operations = [str.strip, remove_ga_prefix, str.title]"
   ]
  },
  {
   "cell_type": "code",
   "execution_count": 5,
   "metadata": {
    "collapsed": true
   },
   "outputs": [],
   "source": [
    "reporting_client = get_service_client(scopes, 'analyticsreporting', 'v4', service_credentials_file)\n",
    "request_body = build_request_body(data_requests)\n",
    "request_parameters = build_request_parameters(view_id, start_date, end_date)\n",
    "response_data = get_analytics_data(reporting_client, request_parameters, request_body)\n",
    "analytics_df = response_to_dataframe(response_data)\n",
    "\n",
    "for df in analytics_df:\n",
    "    df.columns = clean_strings(df.columns, clean_operations)"
   ]
  },
  {
   "cell_type": "code",
   "execution_count": 6,
   "metadata": {},
   "outputs": [
    {
     "data": {
      "text/html": [
       "<div>\n",
       "<style>\n",
       "    .dataframe thead tr:only-child th {\n",
       "        text-align: right;\n",
       "    }\n",
       "\n",
       "    .dataframe thead th {\n",
       "        text-align: left;\n",
       "    }\n",
       "\n",
       "    .dataframe tbody tr th {\n",
       "        vertical-align: top;\n",
       "    }\n",
       "</style>\n",
       "<table border=\"1\" class=\"dataframe\">\n",
       "  <thead>\n",
       "    <tr style=\"text-align: right;\">\n",
       "      <th></th>\n",
       "      <th>Country</th>\n",
       "      <th>Browser</th>\n",
       "      <th>Sessions</th>\n",
       "      <th>Pageviews</th>\n",
       "    </tr>\n",
       "  </thead>\n",
       "  <tbody>\n",
       "    <tr>\n",
       "      <th>0</th>\n",
       "      <td>Brazil</td>\n",
       "      <td>Chrome</td>\n",
       "      <td>1</td>\n",
       "      <td>1</td>\n",
       "    </tr>\n",
       "    <tr>\n",
       "      <th>1</th>\n",
       "      <td>Germany</td>\n",
       "      <td>Internet Explorer</td>\n",
       "      <td>1</td>\n",
       "      <td>1</td>\n",
       "    </tr>\n",
       "    <tr>\n",
       "      <th>2</th>\n",
       "      <td>Italy</td>\n",
       "      <td>Safari</td>\n",
       "      <td>1</td>\n",
       "      <td>1</td>\n",
       "    </tr>\n",
       "    <tr>\n",
       "      <th>3</th>\n",
       "      <td>Philippines</td>\n",
       "      <td>Chrome</td>\n",
       "      <td>1</td>\n",
       "      <td>1</td>\n",
       "    </tr>\n",
       "    <tr>\n",
       "      <th>4</th>\n",
       "      <td>United States</td>\n",
       "      <td>Chrome</td>\n",
       "      <td>4</td>\n",
       "      <td>10</td>\n",
       "    </tr>\n",
       "  </tbody>\n",
       "</table>\n",
       "</div>"
      ],
      "text/plain": [
       "         Country            Browser Sessions Pageviews\n",
       "0         Brazil             Chrome        1         1\n",
       "1        Germany  Internet Explorer        1         1\n",
       "2          Italy             Safari        1         1\n",
       "3    Philippines             Chrome        1         1\n",
       "4  United States             Chrome        4        10"
      ]
     },
     "execution_count": 6,
     "metadata": {},
     "output_type": "execute_result"
    }
   ],
   "source": [
    "analytics_df[0]"
   ]
  }
 ],
 "metadata": {
  "kernelspec": {
   "display_name": "Python 3",
   "language": "python",
   "name": "python3"
  },
  "language_info": {
   "codemirror_mode": {
    "name": "ipython",
    "version": 3
   },
   "file_extension": ".py",
   "mimetype": "text/x-python",
   "name": "python",
   "nbconvert_exporter": "python",
   "pygments_lexer": "ipython3",
   "version": "3.6.3"
  }
 },
 "nbformat": 4,
 "nbformat_minor": 2
}
