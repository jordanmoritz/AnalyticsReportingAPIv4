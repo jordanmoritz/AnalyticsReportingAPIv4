{
 "cells": [
  {
   "cell_type": "code",
   "execution_count": null,
   "metadata": {
    "collapsed": true
   },
   "outputs": [],
   "source": [
    "from oauth2client.service_account import ServiceAccountCredentials\n",
    "from googleapiclient.discovery import build\n",
    "import pandas as pd"
   ]
  },
  {
   "cell_type": "code",
   "execution_count": 43,
   "metadata": {
    "collapsed": true
   },
   "outputs": [],
   "source": [
    "# To do:\n",
    "# Need to grab those 'what properties and views do i have access to functions\n",
    "# Need to build a build_request body function\n",
    "# And related, need to build a request list building\n",
    "\n",
    "\n",
    "def get_service_client(scopes, api_name, api_version, service_key_file=None, credentials=None):\n",
    "    \n",
    "    if credentials:\n",
    "        service_client = build(api_name, api_version, credentials=credentials)\n",
    "    \n",
    "    else:\n",
    "        credentials = ServiceAccountCredentials.from_json_keyfile_name(service_key_file, scopes=scopes)\n",
    "        print(credentials, api_name, api_version)\n",
    "        service_client = build(api_name, api_version, credentials=credentials)\n",
    "    \n",
    "    return service_client"
   ]
  },
  {
   "cell_type": "code",
   "execution_count": 16,
   "metadata": {},
   "outputs": [
    {
     "name": "stdout",
     "output_type": "stream",
     "text": [
      "<oauth2client.service_account.ServiceAccountCredentials object at 0x000001EEB3C6F518> analyticsreporting v4\n"
     ]
    }
   ],
   "source": [
    "scopes = ['https://www.googleapis.com/auth/analytics.readonly','https://www.googleapis.com/auth/analytics.edit']\n",
    "service_credentials_file = 'client_secrets.json'\n",
    "api_name = 'analyticsreporting'\n",
    "api_version = 'v4'\n",
    "\n",
    "reporting_client = get_service_client(scopes, api_name, api_version, service_credentials_file)"
   ]
  },
  {
   "cell_type": "code",
   "execution_count": 66,
   "metadata": {},
   "outputs": [],
   "source": [
    "view_id = '95100800'\n",
    "# So it is two in the request body\n",
    "request_body = {\n",
    "        'reportRequests': [\n",
    "            {\n",
    "              'dateRanges': [{'startDate': '28daysAgo', 'endDate': 'today'}],\n",
    "              'metrics': [{'expression': 'ga:sessions'}],\n",
    "              'dimensions': [{'name': 'ga:country'}]\n",
    "            },\n",
    "            {\n",
    "              'dateRanges': [{'startDate': '7daysAgo', 'endDate': 'today'}],\n",
    "              'metrics': [{'expression': 'ga:sessions'}],\n",
    "              'dimensions': [{'name': 'ga:country'}]\n",
    "            }]\n",
    "          }\n",
    "\n",
    "\n",
    "# Need to rework this\n",
    "request_list = [request_body]\n",
    "\n",
    "\n",
    "# Loop through should be on reportRequests, not a list a step up\n",
    "def get_analytics_data(view_id, reporting_client, request_list):\n",
    "\n",
    "    for request in range(len(request_list)):\n",
    "        request_list[request]['reportRequests'][0].update({'viewId': view_id})\n",
    "        request_list[request]['reportRequests'][1].update({'viewId': view_id})\n",
    "\n",
    "        data_output = reporting_client.reports().batchGet(\n",
    "            body=request_list[request]\n",
    "            ).execute()\n",
    "\n",
    "    return data_output"
   ]
  },
  {
   "cell_type": "code",
   "execution_count": 50,
   "metadata": {},
   "outputs": [
    {
     "data": {
      "text/plain": [
       "[{'dateRanges': [{'endDate': 'today', 'startDate': '28daysAgo'}],\n",
       "  'dimensions': [{'name': 'ga:country'}],\n",
       "  'metrics': [{'expression': 'ga:sessions'}]}]"
      ]
     },
     "execution_count": 50,
     "metadata": {},
     "output_type": "execute_result"
    }
   ],
   "source": [
    "request_list[0]['reportRequests']"
   ]
  },
  {
   "cell_type": "code",
   "execution_count": 67,
   "metadata": {},
   "outputs": [
    {
     "ename": "HttpError",
     "evalue": "<HttpError 400 when requesting https://analyticsreporting.googleapis.com/v4/reports:batchGet?alt=json returned \"All requests should have same dateRange\">",
     "output_type": "error",
     "traceback": [
      "\u001b[1;31m---------------------------------------------------------------------------\u001b[0m",
      "\u001b[1;31mHttpError\u001b[0m                                 Traceback (most recent call last)",
      "\u001b[1;32m<ipython-input-67-50c0d5d7b859>\u001b[0m in \u001b[0;36m<module>\u001b[1;34m()\u001b[0m\n\u001b[1;32m----> 1\u001b[1;33m \u001b[0moutput\u001b[0m \u001b[1;33m=\u001b[0m \u001b[0mget_analytics_data\u001b[0m\u001b[1;33m(\u001b[0m\u001b[0mview_id\u001b[0m\u001b[1;33m,\u001b[0m \u001b[0mreporting_client\u001b[0m\u001b[1;33m,\u001b[0m \u001b[0mrequest_list\u001b[0m\u001b[1;33m)\u001b[0m\u001b[1;33m\u001b[0m\u001b[0m\n\u001b[0m\u001b[0;32m      2\u001b[0m \u001b[0moutput\u001b[0m\u001b[1;33m\u001b[0m\u001b[0m\n",
      "\u001b[1;32m<ipython-input-66-c92809c2c477>\u001b[0m in \u001b[0;36mget_analytics_data\u001b[1;34m(view_id, reporting_client, request_list)\u001b[0m\n\u001b[0;32m     24\u001b[0m \u001b[1;33m\u001b[0m\u001b[0m\n\u001b[0;32m     25\u001b[0m         data_output = reporting_client.reports().batchGet(\n\u001b[1;32m---> 26\u001b[1;33m             \u001b[0mbody\u001b[0m\u001b[1;33m=\u001b[0m\u001b[0mrequest_list\u001b[0m\u001b[1;33m[\u001b[0m\u001b[0mrequest\u001b[0m\u001b[1;33m]\u001b[0m\u001b[1;33m\u001b[0m\u001b[0m\n\u001b[0m\u001b[0;32m     27\u001b[0m             ).execute()\n\u001b[0;32m     28\u001b[0m \u001b[1;33m\u001b[0m\u001b[0m\n",
      "\u001b[1;32mC:\\ProgramData\\Anaconda3\\lib\\site-packages\\googleapiclient\\_helpers.py\u001b[0m in \u001b[0;36mpositional_wrapper\u001b[1;34m(*args, **kwargs)\u001b[0m\n\u001b[0;32m    128\u001b[0m                 \u001b[1;32melif\u001b[0m \u001b[0mpositional_parameters_enforcement\u001b[0m \u001b[1;33m==\u001b[0m \u001b[0mPOSITIONAL_WARNING\u001b[0m\u001b[1;33m:\u001b[0m\u001b[1;33m\u001b[0m\u001b[0m\n\u001b[0;32m    129\u001b[0m                     \u001b[0mlogger\u001b[0m\u001b[1;33m.\u001b[0m\u001b[0mwarning\u001b[0m\u001b[1;33m(\u001b[0m\u001b[0mmessage\u001b[0m\u001b[1;33m)\u001b[0m\u001b[1;33m\u001b[0m\u001b[0m\n\u001b[1;32m--> 130\u001b[1;33m             \u001b[1;32mreturn\u001b[0m \u001b[0mwrapped\u001b[0m\u001b[1;33m(\u001b[0m\u001b[1;33m*\u001b[0m\u001b[0margs\u001b[0m\u001b[1;33m,\u001b[0m \u001b[1;33m**\u001b[0m\u001b[0mkwargs\u001b[0m\u001b[1;33m)\u001b[0m\u001b[1;33m\u001b[0m\u001b[0m\n\u001b[0m\u001b[0;32m    131\u001b[0m         \u001b[1;32mreturn\u001b[0m \u001b[0mpositional_wrapper\u001b[0m\u001b[1;33m\u001b[0m\u001b[0m\n\u001b[0;32m    132\u001b[0m \u001b[1;33m\u001b[0m\u001b[0m\n",
      "\u001b[1;32mC:\\ProgramData\\Anaconda3\\lib\\site-packages\\googleapiclient\\http.py\u001b[0m in \u001b[0;36mexecute\u001b[1;34m(self, http, num_retries)\u001b[0m\n\u001b[0;32m    838\u001b[0m       \u001b[0mcallback\u001b[0m\u001b[1;33m(\u001b[0m\u001b[0mresp\u001b[0m\u001b[1;33m)\u001b[0m\u001b[1;33m\u001b[0m\u001b[0m\n\u001b[0;32m    839\u001b[0m     \u001b[1;32mif\u001b[0m \u001b[0mresp\u001b[0m\u001b[1;33m.\u001b[0m\u001b[0mstatus\u001b[0m \u001b[1;33m>=\u001b[0m \u001b[1;36m300\u001b[0m\u001b[1;33m:\u001b[0m\u001b[1;33m\u001b[0m\u001b[0m\n\u001b[1;32m--> 840\u001b[1;33m       \u001b[1;32mraise\u001b[0m \u001b[0mHttpError\u001b[0m\u001b[1;33m(\u001b[0m\u001b[0mresp\u001b[0m\u001b[1;33m,\u001b[0m \u001b[0mcontent\u001b[0m\u001b[1;33m,\u001b[0m \u001b[0muri\u001b[0m\u001b[1;33m=\u001b[0m\u001b[0mself\u001b[0m\u001b[1;33m.\u001b[0m\u001b[0muri\u001b[0m\u001b[1;33m)\u001b[0m\u001b[1;33m\u001b[0m\u001b[0m\n\u001b[0m\u001b[0;32m    841\u001b[0m     \u001b[1;32mreturn\u001b[0m \u001b[0mself\u001b[0m\u001b[1;33m.\u001b[0m\u001b[0mpostproc\u001b[0m\u001b[1;33m(\u001b[0m\u001b[0mresp\u001b[0m\u001b[1;33m,\u001b[0m \u001b[0mcontent\u001b[0m\u001b[1;33m)\u001b[0m\u001b[1;33m\u001b[0m\u001b[0m\n\u001b[0;32m    842\u001b[0m \u001b[1;33m\u001b[0m\u001b[0m\n",
      "\u001b[1;31mHttpError\u001b[0m: <HttpError 400 when requesting https://analyticsreporting.googleapis.com/v4/reports:batchGet?alt=json returned \"All requests should have same dateRange\">"
     ]
    }
   ],
   "source": [
    "output = get_analytics_data(view_id, reporting_client, request_list)\n",
    "output"
   ]
  },
  {
   "cell_type": "code",
   "execution_count": null,
   "metadata": {},
   "outputs": [],
   "source": [
    "body={\n",
    "    'reportRequests': [\n",
    "        {\n",
    "          'viewId': view_id,\n",
    "          'dateRanges': [{'startDate': '28daysAgo', 'endDate': 'today'}],\n",
    "          'metrics': [{'expression': 'ga:sessions'}],\n",
    "          'dimensions': [{'name': 'ga:country'}]\n",
    "        }]\n",
    "      }"
   ]
  },
  {
   "cell_type": "code",
   "execution_count": null,
   "metadata": {},
   "outputs": [],
   "source": [
    "for request in body['reportRequests']:\n",
    "    print(request)\n",
    "#     for "
   ]
  },
  {
   "cell_type": "code",
   "execution_count": null,
   "metadata": {
    "collapsed": true
   },
   "outputs": [],
   "source": [
    "view_id = '95100800'\n",
    "\n",
    "report_output = reporting_client.reports().batchGet(\n",
    "    body={\n",
    "    'reportRequests': [\n",
    "        {\n",
    "          'viewId': view_id,\n",
    "          'dateRanges': [{'startDate': '28daysAgo', 'endDate': 'today'}],\n",
    "          'metrics': [{'expression': 'ga:sessions'}],\n",
    "          'dimensions': [{'name': 'ga:country'}]\n",
    "        }]\n",
    "      }\n",
    "    ).execute()"
   ]
  },
  {
   "cell_type": "code",
   "execution_count": null,
   "metadata": {
    "collapsed": true
   },
   "outputs": [],
   "source": [
    "type(report_output)"
   ]
  },
  {
   "cell_type": "code",
   "execution_count": null,
   "metadata": {},
   "outputs": [],
   "source": [
    "report_output['reports']"
   ]
  },
  {
   "cell_type": "code",
   "execution_count": null,
   "metadata": {
    "collapsed": true
   },
   "outputs": [],
   "source": [
    "def print_response(response):\n",
    "  \n",
    "  for report in response.get('reports', []):\n",
    "    columnHeader = report.get('columnHeader', {})\n",
    "    dimensionHeaders = columnHeader.get('dimensions', [])\n",
    "    metricHeaders = columnHeader.get('metricHeader', {}).get('metricHeaderEntries', [])\n",
    "\n",
    "    for row in report.get('data', {}).get('rows', []):\n",
    "        dimensions = row.get('dimensions', [])\n",
    "        dateRangeValues = row.get('metrics', [])\n",
    "        \n",
    "        for header, dimension in zip(dimensionHeaders, dimensions):\n",
    "            print(header + ': ' + dimension)\n",
    "        \n",
    "        for i, values in enumerate(dateRangeValues):\n",
    "            print('Date range: ' + str(i))\n",
    "            \n",
    "            for metricHeader, value in zip(metricHeaders, values.get('values')):\n",
    "                print(metricHeader.get('name') + ': ' + value)\n",
    "\n"
   ]
  },
  {
   "cell_type": "code",
   "execution_count": null,
   "metadata": {
    "collapsed": true
   },
   "outputs": [],
   "source": [
    "print_response(report_output)"
   ]
  },
  {
   "cell_type": "code",
   "execution_count": null,
   "metadata": {
    "collapsed": true
   },
   "outputs": [],
   "source": [
    "\n",
    "#Parse the response of API\n",
    "def parse_response(report):\n",
    "\n",
    "    \"\"\"Parses and prints the Analytics Reporting API V4 response\"\"\"\n",
    "    #Initialize results, in list format because two dataframes might return\n",
    "    result_list = []\n",
    "\n",
    "    #Initialize empty data container for the two dateranges (if there are two that is)\n",
    "    data_csv = []\n",
    "    data_csv2 = []\n",
    "\n",
    "    #Initialize header rows\n",
    "    header_row = []\n",
    "\n",
    "    #Get column headers, metric headers, and dimension headers.\n",
    "    columnHeader = report.get('columnHeader', {})\n",
    "    metricHeaders = columnHeader.get('metricHeader', {}).get('metricHeaderEntries', [])\n",
    "    dimensionHeaders = columnHeader.get('dimensions', [])\n",
    "\n",
    "    #Combine all of those headers into the header_row, which is in a list format\n",
    "    for dheader in dimensionHeaders:\n",
    "        header_row.append(dheader)\n",
    "    for mheader in metricHeaders:\n",
    "        header_row.append(mheader['name'])\n",
    "\n",
    "    #Get data from each of the rows, and append them into a list\n",
    "    rows = report.get('data', {}).get('rows', [])\n",
    "    for row in rows:\n",
    "        row_temp = []\n",
    "        dimensions = row.get('dimensions', [])\n",
    "        metrics = row.get('metrics', [])\n",
    "        for d in dimensions:\n",
    "            row_temp.append(d)\n",
    "        for m in metrics[0]['values']:\n",
    "            row_temp.append(m)\n",
    "            data_csv.append(row_temp)\n",
    "\n",
    "        #In case of a second date range, do the same thing for the second request\n",
    "        if len(metrics) == 2:\n",
    "            row_temp2 = []\n",
    "            for d in dimensions:\n",
    "                row_temp2.append(d)\n",
    "            for m in metrics[1]['values']:\n",
    "                row_temp2.append(m)\n",
    "            data_csv2.append(row_temp2)\n",
    "\n",
    "    #Putting those list formats into pandas dataframe, and append them into the final result\n",
    "    result_df = pd.DataFrame(data_csv, columns=header_row)\n",
    "    result_list.append(result_df)\n",
    "    if data_csv2 != []:\n",
    "        result_list.append(pandas.DataFrame(data_csv2, columns=header_row))\n",
    "\n",
    "    return result_list"
   ]
  },
  {
   "cell_type": "code",
   "execution_count": null,
   "metadata": {
    "collapsed": true
   },
   "outputs": [],
   "source": [
    "result = parse_response(report_output)"
   ]
  },
  {
   "cell_type": "code",
   "execution_count": null,
   "metadata": {
    "collapsed": true
   },
   "outputs": [],
   "source": [
    "result"
   ]
  }
 ],
 "metadata": {
  "kernelspec": {
   "display_name": "Python 3",
   "language": "python",
   "name": "python3"
  },
  "language_info": {
   "codemirror_mode": {
    "name": "ipython",
    "version": 3
   },
   "file_extension": ".py",
   "mimetype": "text/x-python",
   "name": "python",
   "nbconvert_exporter": "python",
   "pygments_lexer": "ipython3",
   "version": "3.6.3"
  }
 },
 "nbformat": 4,
 "nbformat_minor": 2
}
