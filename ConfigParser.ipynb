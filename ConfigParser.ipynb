{
 "cells": [
  {
   "cell_type": "code",
   "execution_count": 1,
   "metadata": {
    "collapsed": true
   },
   "outputs": [],
   "source": [
    "import configparser"
   ]
  },
  {
   "cell_type": "code",
   "execution_count": 2,
   "metadata": {
    "collapsed": true
   },
   "outputs": [],
   "source": [
    "test_config = \"\"\"\n",
    "[Service Account]\n",
    "service_credentials_file = client_secrets.json\n",
    "scopes = https://www.googleapis.com/auth/analytics.readonly,https://www.googleapis.com/auth/analytics.edit\n",
    "\n",
    "[Report Parameters] \n",
    "start_date = 28daysAgo\n",
    "end_date = today\n",
    "\n",
    "[Request 1]\n",
    "metrics = sessions,pageviews\n",
    "dimensions = country,browser\n",
    "\n",
    "[Request 2]\n",
    "metrics = sessions,pageviews,bounces\n",
    "dimensions = fullReferrer,country,browser\n",
    "\"\"\""
   ]
  },
  {
   "cell_type": "code",
   "execution_count": 3,
   "metadata": {
    "collapsed": true
   },
   "outputs": [],
   "source": [
    "config_parser = configparser.ConfigParser(delimiters=('='))"
   ]
  },
  {
   "cell_type": "code",
   "execution_count": 4,
   "metadata": {
    "collapsed": true
   },
   "outputs": [],
   "source": [
    "config_parser.read_string(test_config)"
   ]
  },
  {
   "cell_type": "code",
   "execution_count": 5,
   "metadata": {
    "collapsed": true
   },
   "outputs": [],
   "source": [
    "scopes = config_parser.get('Service Account', 'scopes').split(',')\n",
    "service_credentials_file = config_parser.get('Service Account', 'service_credentials_file')\n",
    "start_date = config_parser.get('Report Parameters', 'start_date')\n",
    "end_date = config_parser.get('Report Parameters', 'end_date')"
   ]
  },
  {
   "cell_type": "code",
   "execution_count": 6,
   "metadata": {},
   "outputs": [
    {
     "data": {
      "text/plain": [
       "'https://www.googleapis.com/auth/analytics.readonly'"
      ]
     },
     "execution_count": 6,
     "metadata": {},
     "output_type": "execute_result"
    }
   ],
   "source": [
    "scopes[0]"
   ]
  }
 ],
 "metadata": {
  "kernelspec": {
   "display_name": "Python 3",
   "language": "python",
   "name": "python3"
  },
  "language_info": {
   "codemirror_mode": {
    "name": "ipython",
    "version": 3
   },
   "file_extension": ".py",
   "mimetype": "text/x-python",
   "name": "python",
   "nbconvert_exporter": "python",
   "pygments_lexer": "ipython3",
   "version": "3.6.3"
  }
 },
 "nbformat": 4,
 "nbformat_minor": 2
}
