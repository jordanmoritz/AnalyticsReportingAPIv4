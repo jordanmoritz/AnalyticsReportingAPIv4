{
 "cells": [
  {
   "cell_type": "code",
   "execution_count": 2,
   "metadata": {
    "collapsed": true
   },
   "outputs": [],
   "source": [
    "from oauth2client.service_account import ServiceAccountCredentials\n",
    "from googleapiclient.discovery import build"
   ]
  },
  {
   "cell_type": "code",
   "execution_count": 5,
   "metadata": {
    "collapsed": true
   },
   "outputs": [],
   "source": [
    "# Turn this into a function that returns the reporting_client\n",
    "\n",
    "#Create the credentials object\n",
    "service_credentials_file = 'client_secrets.json'\n",
    "scopes = ['https://www.googleapis.com/auth/analytics.readonly','https://www.googleapis.com/auth/analytics.edit']\n",
    "credentials = ServiceAccountCredentials.from_json_keyfile_name(service_credentials_file, scopes=scopes)\n",
    "\n",
    "#Build a service object\n",
    "api_name = 'analyticsreporting'\n",
    "api_version = 'v4'\n",
    "reporting_client = build(api_name, api_version, credentials=credentials)"
   ]
  },
  {
   "cell_type": "code",
   "execution_count": 8,
   "metadata": {},
   "outputs": [],
   "source": [
    "# Turn into a report getting function\n",
    "\n",
    "view_id = '95100800'\n",
    "\n",
    "report_output = reporting_client.reports().batchGet(\n",
    "    body={\n",
    "    'reportRequests': [\n",
    "        {\n",
    "          'viewId': view_id,\n",
    "          'dateRanges': [{'startDate': '28daysAgo', 'endDate': 'today'}],\n",
    "          'metrics': [{'expression': 'ga:sessions'}],\n",
    "          'dimensions': [{'name': 'ga:country'}]\n",
    "        }]\n",
    "      }\n",
    "    ).execute()"
   ]
  },
  {
   "cell_type": "code",
   "execution_count": 9,
   "metadata": {},
   "outputs": [
    {
     "data": {
      "text/plain": [
       "dict"
      ]
     },
     "execution_count": 9,
     "metadata": {},
     "output_type": "execute_result"
    }
   ],
   "source": [
    "type(report_output)"
   ]
  },
  {
   "cell_type": "code",
   "execution_count": 12,
   "metadata": {},
   "outputs": [
    {
     "data": {
      "text/plain": [
       "[{'columnHeader': {'dimensions': ['ga:country'],\n",
       "   'metricHeader': {'metricHeaderEntries': [{'name': 'ga:sessions',\n",
       "      'type': 'INTEGER'}]}},\n",
       "  'data': {'maximums': [{'values': ['1']}],\n",
       "   'minimums': [{'values': ['1']}],\n",
       "   'rowCount': 2,\n",
       "   'rows': [{'dimensions': ['Italy'], 'metrics': [{'values': ['1']}]},\n",
       "    {'dimensions': ['Philippines'], 'metrics': [{'values': ['1']}]}],\n",
       "   'totals': [{'values': ['2']}]}}]"
      ]
     },
     "execution_count": 12,
     "metadata": {},
     "output_type": "execute_result"
    }
   ],
   "source": [
    "report_output['reports']"
   ]
  }
 ],
 "metadata": {
  "kernelspec": {
   "display_name": "Python 3",
   "language": "python",
   "name": "python3"
  },
  "language_info": {
   "codemirror_mode": {
    "name": "ipython",
    "version": 3
   },
   "file_extension": ".py",
   "mimetype": "text/x-python",
   "name": "python",
   "nbconvert_exporter": "python",
   "pygments_lexer": "ipython3",
   "version": "3.6.3"
  }
 },
 "nbformat": 4,
 "nbformat_minor": 2
}
